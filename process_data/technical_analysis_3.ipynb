{
 "cells": [
  {
   "cell_type": "code",
   "execution_count": 1,
   "metadata": {},
   "outputs": [],
   "source": [
    "import inspect\n",
    "from finta import TA\n",
    "import pandas as pd\n",
    "import seaborn as sns\n",
    "import numpy as np\n",
    "from sklearn.cluster import KMeans\n",
    "from sklearn.metrics import silhouette_score\n",
    "\n",
    "from sklearn.linear_model import LogisticRegression\n",
    "from sklearn.metrics import confusion_matrix\n",
    "\n",
    "from sklearn.preprocessing import PolynomialFeatures\n",
    "from sklearn.model_selection import train_test_split\n",
    "from sklearn.preprocessing import StandardScaler\n",
    "from sklearn.ensemble import RandomForestClassifier\n",
    "from sklearn.model_selection import cross_validate\n",
    "\n",
    "from yellowbrick.classifier import ConfusionMatrix"
   ]
  },
  {
   "cell_type": "code",
   "execution_count": 2,
   "metadata": {},
   "outputs": [],
   "source": [
    "all_data = pd.read_csv('../data/sandp500_tickers.csv',\n",
    "                       usecols=['datadate', 'tic', 'cshtrd', 'prcod', 'prccd', 'prchd', 'prcld'],\n",
    "                       parse_dates=['datadate'],\n",
    "                      )"
   ]
  },
  {
   "cell_type": "code",
   "execution_count": 3,
   "metadata": {},
   "outputs": [],
   "source": [
    "all_data.dropna(inplace=True)"
   ]
  },
  {
   "cell_type": "code",
   "execution_count": 4,
   "metadata": {},
   "outputs": [],
   "source": [
    "all_data.columns = ['date', 'tic', 'volume', 'close', 'high', 'low', 'open']"
   ]
  },
  {
   "cell_type": "code",
   "execution_count": 5,
   "metadata": {},
   "outputs": [],
   "source": [
    "#all_data.set_index(['date'], inplace=True)"
   ]
  },
  {
   "cell_type": "code",
   "execution_count": 6,
   "metadata": {},
   "outputs": [],
   "source": [
    "current_tickers = all_data[all_data.date == '2019-09-20'].tic.unique()"
   ]
  },
  {
   "cell_type": "code",
   "execution_count": 7,
   "metadata": {},
   "outputs": [],
   "source": [
    "current_tickers = [tic for tic in current_tickers if '.' not in tic]"
   ]
  },
  {
   "cell_type": "code",
   "execution_count": 8,
   "metadata": {},
   "outputs": [],
   "source": [
    "current_tickers = pd.DataFrame(current_tickers, columns=['tic'])"
   ]
  },
  {
   "cell_type": "code",
   "execution_count": 9,
   "metadata": {},
   "outputs": [],
   "source": [
    "current_sandp = pd.merge(all_data, current_tickers, how='inner')"
   ]
  },
  {
   "cell_type": "code",
   "execution_count": 10,
   "metadata": {},
   "outputs": [],
   "source": [
    "counts = current_sandp.tic.value_counts()"
   ]
  },
  {
   "cell_type": "code",
   "execution_count": 11,
   "metadata": {},
   "outputs": [],
   "source": [
    "keep_sandp = pd.DataFrame(counts[counts >= 2400].index, columns=['tic'])"
   ]
  },
  {
   "cell_type": "code",
   "execution_count": 12,
   "metadata": {},
   "outputs": [],
   "source": [
    "current_sandp = pd.merge(current_sandp, keep_sandp, how='inner')"
   ]
  },
  {
   "cell_type": "code",
   "execution_count": 13,
   "metadata": {},
   "outputs": [],
   "source": [
    "current_sandp.sort_values(by=['tic', 'date'], inplace=True)"
   ]
  },
  {
   "cell_type": "code",
   "execution_count": 14,
   "metadata": {},
   "outputs": [],
   "source": [
    "#current_sandp['next_open']=current_sandp.groupby('tic')['open'].shift(1)"
   ]
  },
  {
   "cell_type": "code",
   "execution_count": 15,
   "metadata": {},
   "outputs": [
    {
     "data": {
      "text/html": [
       "<div>\n",
       "<style scoped>\n",
       "    .dataframe tbody tr th:only-of-type {\n",
       "        vertical-align: middle;\n",
       "    }\n",
       "\n",
       "    .dataframe tbody tr th {\n",
       "        vertical-align: top;\n",
       "    }\n",
       "\n",
       "    .dataframe thead th {\n",
       "        text-align: right;\n",
       "    }\n",
       "</style>\n",
       "<table border=\"1\" class=\"dataframe\">\n",
       "  <thead>\n",
       "    <tr style=\"text-align: right;\">\n",
       "      <th></th>\n",
       "      <th>date</th>\n",
       "      <th>tic</th>\n",
       "      <th>volume</th>\n",
       "      <th>close</th>\n",
       "      <th>high</th>\n",
       "      <th>low</th>\n",
       "      <th>open</th>\n",
       "    </tr>\n",
       "  </thead>\n",
       "  <tbody>\n",
       "    <tr>\n",
       "      <th>924565</th>\n",
       "      <td>2010-01-04</td>\n",
       "      <td>A</td>\n",
       "      <td>2729240.0</td>\n",
       "      <td>31.30</td>\n",
       "      <td>31.63</td>\n",
       "      <td>31.1314</td>\n",
       "      <td>31.39</td>\n",
       "    </tr>\n",
       "    <tr>\n",
       "      <th>924566</th>\n",
       "      <td>2010-01-05</td>\n",
       "      <td>A</td>\n",
       "      <td>2994237.0</td>\n",
       "      <td>30.96</td>\n",
       "      <td>31.22</td>\n",
       "      <td>30.7600</td>\n",
       "      <td>31.21</td>\n",
       "    </tr>\n",
       "    <tr>\n",
       "      <th>924567</th>\n",
       "      <td>2010-01-06</td>\n",
       "      <td>A</td>\n",
       "      <td>2320299.0</td>\n",
       "      <td>30.85</td>\n",
       "      <td>31.00</td>\n",
       "      <td>30.7600</td>\n",
       "      <td>30.85</td>\n",
       "    </tr>\n",
       "    <tr>\n",
       "      <th>924568</th>\n",
       "      <td>2010-01-07</td>\n",
       "      <td>A</td>\n",
       "      <td>2214121.0</td>\n",
       "      <td>30.81</td>\n",
       "      <td>30.82</td>\n",
       "      <td>30.5000</td>\n",
       "      <td>30.78</td>\n",
       "    </tr>\n",
       "    <tr>\n",
       "      <th>924569</th>\n",
       "      <td>2010-01-08</td>\n",
       "      <td>A</td>\n",
       "      <td>2670856.0</td>\n",
       "      <td>30.80</td>\n",
       "      <td>30.85</td>\n",
       "      <td>30.4000</td>\n",
       "      <td>30.64</td>\n",
       "    </tr>\n",
       "  </tbody>\n",
       "</table>\n",
       "</div>"
      ],
      "text/plain": [
       "             date tic     volume  close   high      low   open\n",
       "924565 2010-01-04   A  2729240.0  31.30  31.63  31.1314  31.39\n",
       "924566 2010-01-05   A  2994237.0  30.96  31.22  30.7600  31.21\n",
       "924567 2010-01-06   A  2320299.0  30.85  31.00  30.7600  30.85\n",
       "924568 2010-01-07   A  2214121.0  30.81  30.82  30.5000  30.78\n",
       "924569 2010-01-08   A  2670856.0  30.80  30.85  30.4000  30.64"
      ]
     },
     "execution_count": 15,
     "metadata": {},
     "output_type": "execute_result"
    }
   ],
   "source": [
    "current_sandp.head()"
   ]
  },
  {
   "cell_type": "code",
   "execution_count": 16,
   "metadata": {},
   "outputs": [],
   "source": [
    "aapl = current_sandp.copy()\n",
    "#[current_sandp.tic == 'AAPL'].copy()"
   ]
  },
  {
   "cell_type": "code",
   "execution_count": 17,
   "metadata": {},
   "outputs": [],
   "source": [
    "aapl.set_index('date', inplace=True)"
   ]
  },
  {
   "cell_type": "code",
   "execution_count": 18,
   "metadata": {},
   "outputs": [
    {
     "data": {
      "text/html": [
       "<div>\n",
       "<style scoped>\n",
       "    .dataframe tbody tr th:only-of-type {\n",
       "        vertical-align: middle;\n",
       "    }\n",
       "\n",
       "    .dataframe tbody tr th {\n",
       "        vertical-align: top;\n",
       "    }\n",
       "\n",
       "    .dataframe thead th {\n",
       "        text-align: right;\n",
       "    }\n",
       "</style>\n",
       "<table border=\"1\" class=\"dataframe\">\n",
       "  <thead>\n",
       "    <tr style=\"text-align: right;\">\n",
       "      <th></th>\n",
       "      <th>tic</th>\n",
       "      <th>volume</th>\n",
       "      <th>close</th>\n",
       "      <th>high</th>\n",
       "      <th>low</th>\n",
       "      <th>open</th>\n",
       "    </tr>\n",
       "    <tr>\n",
       "      <th>date</th>\n",
       "      <th></th>\n",
       "      <th></th>\n",
       "      <th></th>\n",
       "      <th></th>\n",
       "      <th></th>\n",
       "      <th></th>\n",
       "    </tr>\n",
       "  </thead>\n",
       "  <tbody>\n",
       "    <tr>\n",
       "      <th>2010-01-04</th>\n",
       "      <td>A</td>\n",
       "      <td>2729240.0</td>\n",
       "      <td>31.30</td>\n",
       "      <td>31.63</td>\n",
       "      <td>31.1314</td>\n",
       "      <td>31.39</td>\n",
       "    </tr>\n",
       "    <tr>\n",
       "      <th>2010-01-05</th>\n",
       "      <td>A</td>\n",
       "      <td>2994237.0</td>\n",
       "      <td>30.96</td>\n",
       "      <td>31.22</td>\n",
       "      <td>30.7600</td>\n",
       "      <td>31.21</td>\n",
       "    </tr>\n",
       "    <tr>\n",
       "      <th>2010-01-06</th>\n",
       "      <td>A</td>\n",
       "      <td>2320299.0</td>\n",
       "      <td>30.85</td>\n",
       "      <td>31.00</td>\n",
       "      <td>30.7600</td>\n",
       "      <td>30.85</td>\n",
       "    </tr>\n",
       "    <tr>\n",
       "      <th>2010-01-07</th>\n",
       "      <td>A</td>\n",
       "      <td>2214121.0</td>\n",
       "      <td>30.81</td>\n",
       "      <td>30.82</td>\n",
       "      <td>30.5000</td>\n",
       "      <td>30.78</td>\n",
       "    </tr>\n",
       "    <tr>\n",
       "      <th>2010-01-08</th>\n",
       "      <td>A</td>\n",
       "      <td>2670856.0</td>\n",
       "      <td>30.80</td>\n",
       "      <td>30.85</td>\n",
       "      <td>30.4000</td>\n",
       "      <td>30.64</td>\n",
       "    </tr>\n",
       "  </tbody>\n",
       "</table>\n",
       "</div>"
      ],
      "text/plain": [
       "           tic     volume  close   high      low   open\n",
       "date                                                   \n",
       "2010-01-04   A  2729240.0  31.30  31.63  31.1314  31.39\n",
       "2010-01-05   A  2994237.0  30.96  31.22  30.7600  31.21\n",
       "2010-01-06   A  2320299.0  30.85  31.00  30.7600  30.85\n",
       "2010-01-07   A  2214121.0  30.81  30.82  30.5000  30.78\n",
       "2010-01-08   A  2670856.0  30.80  30.85  30.4000  30.64"
      ]
     },
     "execution_count": 18,
     "metadata": {},
     "output_type": "execute_result"
    }
   ],
   "source": [
    "aapl.head(5)"
   ]
  },
  {
   "cell_type": "code",
   "execution_count": 19,
   "metadata": {},
   "outputs": [],
   "source": [
    "indicators = [(TA.CCI, {'period':30}),\n",
    "              (TA.CCI, {'period':21}),\n",
    "              (TA.CCI, {'period':14}),\n",
    "              (TA.MACD, {}), \n",
    "              (TA.RSI, {'period':30}),\n",
    "              (TA.RSI, {'period':21}),\n",
    "              (TA.RSI, {'period':14}),\n",
    "              (TA.ADL, {}),\n",
    "              #(TA.EV_MACD, {})\n",
    "             ]"
   ]
  },
  {
   "cell_type": "code",
   "execution_count": 20,
   "metadata": {},
   "outputs": [
    {
     "data": {
      "text/plain": [
       "'30'"
      ]
     },
     "execution_count": 20,
     "metadata": {},
     "output_type": "execute_result"
    }
   ],
   "source": [
    "'_'.join([str(val) for val in indicators[0][1].values()])"
   ]
  },
  {
   "cell_type": "code",
   "execution_count": 21,
   "metadata": {},
   "outputs": [],
   "source": [
    "ta_functions = inspect.getmembers(TA, predicate=inspect.ismethod)"
   ]
  },
  {
   "cell_type": "code",
   "execution_count": 22,
   "metadata": {},
   "outputs": [],
   "source": [
    "# skip_ta = ('ALMA', 'EVWMA', 'EVWMA', 'EV_MACD', 'FRAMA', 'LWMA', 'MAMA', 'SWI', 'TMF', 'VR',)\n",
    "# indicators = [(ta[1], {}) for ta in ta_functions if ta[0] not in skip_ta]"
   ]
  },
  {
   "cell_type": "code",
   "execution_count": 23,
   "metadata": {},
   "outputs": [],
   "source": [
    "#inspect.getfullargspec(TA.CCI)"
   ]
  },
  {
   "cell_type": "code",
   "execution_count": 24,
   "metadata": {},
   "outputs": [],
   "source": [
    "from tqdm import tqdm"
   ]
  },
  {
   "cell_type": "code",
   "execution_count": 25,
   "metadata": {},
   "outputs": [],
   "source": [
    "aapl.reset_index(inplace=True)"
   ]
  },
  {
   "cell_type": "code",
   "execution_count": 26,
   "metadata": {},
   "outputs": [
    {
     "name": "stderr",
     "output_type": "stream",
     "text": [
      "100%|██████████| 442/442 [00:53<00:00,  9.10it/s]\n"
     ]
    }
   ],
   "source": [
    "final_df = []\n",
    "for ticker in tqdm(aapl.tic.unique()):\n",
    "    ta_list = []\n",
    "    ta_df = aapl[aapl.tic == ticker]\n",
    "    ta_df.set_index('date', inplace=True)\n",
    "    for count, indicator in enumerate(indicators):\n",
    "        try:\n",
    "            #print(indicator)\n",
    "            ta_results = indicator[0](ta_df, **indicator[1])\n",
    "            ta_args = '_'.join([str(val) for val in indicator[1].values()])\n",
    "            #ta_results = ta_results.add_suffix('{}_{}'.format(indicator[0].__name__, ta_args))\n",
    "            if isinstance(ta_results, pd.Series):\n",
    "                #if ta_results.name:\n",
    "                new_name = (ta_results.name or indicator[0].__name__) + '_' + ta_args\n",
    "                ta_results.rename(new_name, inplace=True)\n",
    "                #print(ta_results.name)\n",
    "            ta_list.append(ta_results)\n",
    "        except NotImplementedError as e:\n",
    "            print(e)\n",
    "    final_df.append(ta_df.join(ta_list))"
   ]
  },
  {
   "cell_type": "code",
   "execution_count": 27,
   "metadata": {},
   "outputs": [],
   "source": [
    "final = pd.concat(final_df)"
   ]
  },
  {
   "cell_type": "code",
   "execution_count": 28,
   "metadata": {},
   "outputs": [
    {
     "data": {
      "text/plain": [
       "Index(['tic', 'volume', 'close', 'high', 'low', 'open', '30 period CCI_30',\n",
       "       '21 period CCI_21', '14 period CCI_14', 'MACD', 'SIGNAL', 'RSI_30',\n",
       "       'RSI_21', 'RSI_14', 'MFV_'],\n",
       "      dtype='object')"
      ]
     },
     "execution_count": 28,
     "metadata": {},
     "output_type": "execute_result"
    }
   ],
   "source": [
    "final.columns"
   ]
  },
  {
   "cell_type": "code",
   "execution_count": 29,
   "metadata": {},
   "outputs": [
    {
     "data": {
      "text/plain": [
       "(1081109, 15)"
      ]
     },
     "execution_count": 29,
     "metadata": {},
     "output_type": "execute_result"
    }
   ],
   "source": [
    "final.shape"
   ]
  },
  {
   "cell_type": "code",
   "execution_count": 32,
   "metadata": {},
   "outputs": [],
   "source": [
    "aapl_firsts = final.groupby(['tic'])[['tic', 'close', 'high', 'low', 'open']].resample('1m').first()"
   ]
  },
  {
   "cell_type": "code",
   "execution_count": 33,
   "metadata": {},
   "outputs": [],
   "source": [
    "cols = ['30 period CCI_30', '21 period CCI_21', '14 period CCI_14', 'MACD', 'SIGNAL', 'RSI_30', 'RSI_21', 'RSI_14', 'MFV_']\n",
    "aapl_mean= final.groupby(['tic'])[cols].resample('1m').mean()"
   ]
  },
  {
   "cell_type": "code",
   "execution_count": 34,
   "metadata": {},
   "outputs": [],
   "source": [
    "aapl_sum= final.groupby(['tic'])[['volume']].resample('1m').sum()"
   ]
  },
  {
   "cell_type": "code",
   "execution_count": 35,
   "metadata": {},
   "outputs": [],
   "source": [
    "aapl_all=pd.concat([aapl_firsts,aapl_mean, aapl_sum], axis=1)"
   ]
  },
  {
   "cell_type": "code",
   "execution_count": 36,
   "metadata": {},
   "outputs": [
    {
     "data": {
      "text/html": [
       "<div>\n",
       "<style scoped>\n",
       "    .dataframe tbody tr th:only-of-type {\n",
       "        vertical-align: middle;\n",
       "    }\n",
       "\n",
       "    .dataframe tbody tr th {\n",
       "        vertical-align: top;\n",
       "    }\n",
       "\n",
       "    .dataframe thead th {\n",
       "        text-align: right;\n",
       "    }\n",
       "</style>\n",
       "<table border=\"1\" class=\"dataframe\">\n",
       "  <thead>\n",
       "    <tr style=\"text-align: right;\">\n",
       "      <th></th>\n",
       "      <th></th>\n",
       "      <th>tic</th>\n",
       "      <th>close</th>\n",
       "      <th>high</th>\n",
       "      <th>low</th>\n",
       "      <th>open</th>\n",
       "      <th>30 period CCI_30</th>\n",
       "      <th>21 period CCI_21</th>\n",
       "      <th>14 period CCI_14</th>\n",
       "      <th>MACD</th>\n",
       "      <th>SIGNAL</th>\n",
       "      <th>RSI_30</th>\n",
       "      <th>RSI_21</th>\n",
       "      <th>RSI_14</th>\n",
       "      <th>MFV_</th>\n",
       "      <th>volume</th>\n",
       "    </tr>\n",
       "    <tr>\n",
       "      <th>tic</th>\n",
       "      <th>date</th>\n",
       "      <th></th>\n",
       "      <th></th>\n",
       "      <th></th>\n",
       "      <th></th>\n",
       "      <th></th>\n",
       "      <th></th>\n",
       "      <th></th>\n",
       "      <th></th>\n",
       "      <th></th>\n",
       "      <th></th>\n",
       "      <th></th>\n",
       "      <th></th>\n",
       "      <th></th>\n",
       "      <th></th>\n",
       "      <th></th>\n",
       "    </tr>\n",
       "  </thead>\n",
       "  <tbody>\n",
       "    <tr>\n",
       "      <th rowspan=\"5\" valign=\"top\">A</th>\n",
       "      <th>2010-01-31</th>\n",
       "      <td>A</td>\n",
       "      <td>31.30</td>\n",
       "      <td>31.63</td>\n",
       "      <td>31.1314</td>\n",
       "      <td>31.39</td>\n",
       "      <td>-79.431503</td>\n",
       "      <td>-79.431503</td>\n",
       "      <td>-76.739788</td>\n",
       "      <td>-0.090456</td>\n",
       "      <td>-0.049555</td>\n",
       "      <td>21.977887</td>\n",
       "      <td>22.167983</td>\n",
       "      <td>22.354790</td>\n",
       "      <td>-3.921754e+06</td>\n",
       "      <td>57195750.0</td>\n",
       "    </tr>\n",
       "    <tr>\n",
       "      <th>2010-02-28</th>\n",
       "      <td>A</td>\n",
       "      <td>29.13</td>\n",
       "      <td>29.32</td>\n",
       "      <td>28.1300</td>\n",
       "      <td>28.16</td>\n",
       "      <td>8.530224</td>\n",
       "      <td>27.906036</td>\n",
       "      <td>47.853030</td>\n",
       "      <td>-0.046036</td>\n",
       "      <td>-0.133512</td>\n",
       "      <td>50.976560</td>\n",
       "      <td>54.266663</td>\n",
       "      <td>58.994975</td>\n",
       "      <td>-8.045354e+06</td>\n",
       "      <td>77437416.0</td>\n",
       "    </tr>\n",
       "    <tr>\n",
       "      <th>2010-03-31</th>\n",
       "      <td>A</td>\n",
       "      <td>32.09</td>\n",
       "      <td>32.13</td>\n",
       "      <td>31.4300</td>\n",
       "      <td>31.43</td>\n",
       "      <td>106.482094</td>\n",
       "      <td>97.117092</td>\n",
       "      <td>95.002380</td>\n",
       "      <td>0.746314</td>\n",
       "      <td>0.647381</td>\n",
       "      <td>71.249902</td>\n",
       "      <td>74.119115</td>\n",
       "      <td>75.979051</td>\n",
       "      <td>-4.642447e+05</td>\n",
       "      <td>85940921.0</td>\n",
       "    </tr>\n",
       "    <tr>\n",
       "      <th>2010-04-30</th>\n",
       "      <td>A</td>\n",
       "      <td>34.55</td>\n",
       "      <td>34.87</td>\n",
       "      <td>34.2500</td>\n",
       "      <td>34.54</td>\n",
       "      <td>103.617392</td>\n",
       "      <td>91.900319</td>\n",
       "      <td>62.078502</td>\n",
       "      <td>0.672877</td>\n",
       "      <td>0.671609</td>\n",
       "      <td>65.896845</td>\n",
       "      <td>65.189972</td>\n",
       "      <td>63.838722</td>\n",
       "      <td>-1.526734e+06</td>\n",
       "      <td>76014979.0</td>\n",
       "    </tr>\n",
       "    <tr>\n",
       "      <th>2010-05-31</th>\n",
       "      <td>A</td>\n",
       "      <td>36.77</td>\n",
       "      <td>36.89</td>\n",
       "      <td>36.3700</td>\n",
       "      <td>36.50</td>\n",
       "      <td>-73.001477</td>\n",
       "      <td>-70.195572</td>\n",
       "      <td>-70.460715</td>\n",
       "      <td>-0.265806</td>\n",
       "      <td>0.031018</td>\n",
       "      <td>43.897317</td>\n",
       "      <td>41.582252</td>\n",
       "      <td>39.448990</td>\n",
       "      <td>1.081992e+07</td>\n",
       "      <td>89202413.0</td>\n",
       "    </tr>\n",
       "  </tbody>\n",
       "</table>\n",
       "</div>"
      ],
      "text/plain": [
       "               tic  close   high      low   open  30 period CCI_30  \\\n",
       "tic date                                                             \n",
       "A   2010-01-31   A  31.30  31.63  31.1314  31.39        -79.431503   \n",
       "    2010-02-28   A  29.13  29.32  28.1300  28.16          8.530224   \n",
       "    2010-03-31   A  32.09  32.13  31.4300  31.43        106.482094   \n",
       "    2010-04-30   A  34.55  34.87  34.2500  34.54        103.617392   \n",
       "    2010-05-31   A  36.77  36.89  36.3700  36.50        -73.001477   \n",
       "\n",
       "                21 period CCI_21  14 period CCI_14      MACD    SIGNAL  \\\n",
       "tic date                                                                 \n",
       "A   2010-01-31        -79.431503        -76.739788 -0.090456 -0.049555   \n",
       "    2010-02-28         27.906036         47.853030 -0.046036 -0.133512   \n",
       "    2010-03-31         97.117092         95.002380  0.746314  0.647381   \n",
       "    2010-04-30         91.900319         62.078502  0.672877  0.671609   \n",
       "    2010-05-31        -70.195572        -70.460715 -0.265806  0.031018   \n",
       "\n",
       "                   RSI_30     RSI_21     RSI_14          MFV_      volume  \n",
       "tic date                                                                   \n",
       "A   2010-01-31  21.977887  22.167983  22.354790 -3.921754e+06  57195750.0  \n",
       "    2010-02-28  50.976560  54.266663  58.994975 -8.045354e+06  77437416.0  \n",
       "    2010-03-31  71.249902  74.119115  75.979051 -4.642447e+05  85940921.0  \n",
       "    2010-04-30  65.896845  65.189972  63.838722 -1.526734e+06  76014979.0  \n",
       "    2010-05-31  43.897317  41.582252  39.448990  1.081992e+07  89202413.0  "
      ]
     },
     "execution_count": 36,
     "metadata": {},
     "output_type": "execute_result"
    }
   ],
   "source": [
    "aapl_all.head()"
   ]
  },
  {
   "cell_type": "code",
   "execution_count": 37,
   "metadata": {},
   "outputs": [
    {
     "name": "stderr",
     "output_type": "stream",
     "text": [
      "/Users/flatironschool/anaconda3/envs/learn-env/lib/python3.6/site-packages/ipykernel_launcher.py:1: FutureWarning: 'tic' is both an index level and a column label.\n",
      "Defaulting to column, but this will raise an ambiguity error in a future version\n",
      "  \"\"\"Entry point for launching an IPython kernel.\n"
     ]
    }
   ],
   "source": [
    "aapl_all['nextwk_roi'] = ((aapl_all.groupby('tic')['close'].shift(-1)-aapl_all.open) / aapl_all.open) * 100"
   ]
  },
  {
   "cell_type": "code",
   "execution_count": 38,
   "metadata": {},
   "outputs": [
    {
     "data": {
      "text/html": [
       "<div>\n",
       "<style scoped>\n",
       "    .dataframe tbody tr th:only-of-type {\n",
       "        vertical-align: middle;\n",
       "    }\n",
       "\n",
       "    .dataframe tbody tr th {\n",
       "        vertical-align: top;\n",
       "    }\n",
       "\n",
       "    .dataframe thead th {\n",
       "        text-align: right;\n",
       "    }\n",
       "</style>\n",
       "<table border=\"1\" class=\"dataframe\">\n",
       "  <thead>\n",
       "    <tr style=\"text-align: right;\">\n",
       "      <th></th>\n",
       "      <th></th>\n",
       "      <th>tic</th>\n",
       "      <th>close</th>\n",
       "      <th>high</th>\n",
       "      <th>low</th>\n",
       "      <th>open</th>\n",
       "      <th>30 period CCI_30</th>\n",
       "      <th>21 period CCI_21</th>\n",
       "      <th>14 period CCI_14</th>\n",
       "      <th>MACD</th>\n",
       "      <th>SIGNAL</th>\n",
       "      <th>RSI_30</th>\n",
       "      <th>RSI_21</th>\n",
       "      <th>RSI_14</th>\n",
       "      <th>MFV_</th>\n",
       "      <th>volume</th>\n",
       "      <th>nextwk_roi</th>\n",
       "    </tr>\n",
       "    <tr>\n",
       "      <th>tic</th>\n",
       "      <th>date</th>\n",
       "      <th></th>\n",
       "      <th></th>\n",
       "      <th></th>\n",
       "      <th></th>\n",
       "      <th></th>\n",
       "      <th></th>\n",
       "      <th></th>\n",
       "      <th></th>\n",
       "      <th></th>\n",
       "      <th></th>\n",
       "      <th></th>\n",
       "      <th></th>\n",
       "      <th></th>\n",
       "      <th></th>\n",
       "      <th></th>\n",
       "      <th></th>\n",
       "    </tr>\n",
       "  </thead>\n",
       "  <tbody>\n",
       "    <tr>\n",
       "      <th rowspan=\"5\" valign=\"top\">A</th>\n",
       "      <th>2010-01-31</th>\n",
       "      <td>A</td>\n",
       "      <td>31.30</td>\n",
       "      <td>31.63</td>\n",
       "      <td>31.1314</td>\n",
       "      <td>31.39</td>\n",
       "      <td>-79.431503</td>\n",
       "      <td>-79.431503</td>\n",
       "      <td>-76.739788</td>\n",
       "      <td>-0.090456</td>\n",
       "      <td>-0.049555</td>\n",
       "      <td>21.977887</td>\n",
       "      <td>22.167983</td>\n",
       "      <td>22.354790</td>\n",
       "      <td>-3.921754e+06</td>\n",
       "      <td>57195750.0</td>\n",
       "      <td>-7.199745</td>\n",
       "    </tr>\n",
       "    <tr>\n",
       "      <th>2010-02-28</th>\n",
       "      <td>A</td>\n",
       "      <td>29.13</td>\n",
       "      <td>29.32</td>\n",
       "      <td>28.1300</td>\n",
       "      <td>28.16</td>\n",
       "      <td>8.530224</td>\n",
       "      <td>27.906036</td>\n",
       "      <td>47.853030</td>\n",
       "      <td>-0.046036</td>\n",
       "      <td>-0.133512</td>\n",
       "      <td>50.976560</td>\n",
       "      <td>54.266663</td>\n",
       "      <td>58.994975</td>\n",
       "      <td>-8.045354e+06</td>\n",
       "      <td>77437416.0</td>\n",
       "      <td>13.955966</td>\n",
       "    </tr>\n",
       "    <tr>\n",
       "      <th>2010-03-31</th>\n",
       "      <td>A</td>\n",
       "      <td>32.09</td>\n",
       "      <td>32.13</td>\n",
       "      <td>31.4300</td>\n",
       "      <td>31.43</td>\n",
       "      <td>106.482094</td>\n",
       "      <td>97.117092</td>\n",
       "      <td>95.002380</td>\n",
       "      <td>0.746314</td>\n",
       "      <td>0.647381</td>\n",
       "      <td>71.249902</td>\n",
       "      <td>74.119115</td>\n",
       "      <td>75.979051</td>\n",
       "      <td>-4.642447e+05</td>\n",
       "      <td>85940921.0</td>\n",
       "      <td>9.926822</td>\n",
       "    </tr>\n",
       "    <tr>\n",
       "      <th>2010-04-30</th>\n",
       "      <td>A</td>\n",
       "      <td>34.55</td>\n",
       "      <td>34.87</td>\n",
       "      <td>34.2500</td>\n",
       "      <td>34.54</td>\n",
       "      <td>103.617392</td>\n",
       "      <td>91.900319</td>\n",
       "      <td>62.078502</td>\n",
       "      <td>0.672877</td>\n",
       "      <td>0.671609</td>\n",
       "      <td>65.896845</td>\n",
       "      <td>65.189972</td>\n",
       "      <td>63.838722</td>\n",
       "      <td>-1.526734e+06</td>\n",
       "      <td>76014979.0</td>\n",
       "      <td>6.456283</td>\n",
       "    </tr>\n",
       "    <tr>\n",
       "      <th>2010-05-31</th>\n",
       "      <td>A</td>\n",
       "      <td>36.77</td>\n",
       "      <td>36.89</td>\n",
       "      <td>36.3700</td>\n",
       "      <td>36.50</td>\n",
       "      <td>-73.001477</td>\n",
       "      <td>-70.195572</td>\n",
       "      <td>-70.460715</td>\n",
       "      <td>-0.265806</td>\n",
       "      <td>0.031018</td>\n",
       "      <td>43.897317</td>\n",
       "      <td>41.582252</td>\n",
       "      <td>39.448990</td>\n",
       "      <td>1.081992e+07</td>\n",
       "      <td>89202413.0</td>\n",
       "      <td>-13.753425</td>\n",
       "    </tr>\n",
       "  </tbody>\n",
       "</table>\n",
       "</div>"
      ],
      "text/plain": [
       "               tic  close   high      low   open  30 period CCI_30  \\\n",
       "tic date                                                             \n",
       "A   2010-01-31   A  31.30  31.63  31.1314  31.39        -79.431503   \n",
       "    2010-02-28   A  29.13  29.32  28.1300  28.16          8.530224   \n",
       "    2010-03-31   A  32.09  32.13  31.4300  31.43        106.482094   \n",
       "    2010-04-30   A  34.55  34.87  34.2500  34.54        103.617392   \n",
       "    2010-05-31   A  36.77  36.89  36.3700  36.50        -73.001477   \n",
       "\n",
       "                21 period CCI_21  14 period CCI_14      MACD    SIGNAL  \\\n",
       "tic date                                                                 \n",
       "A   2010-01-31        -79.431503        -76.739788 -0.090456 -0.049555   \n",
       "    2010-02-28         27.906036         47.853030 -0.046036 -0.133512   \n",
       "    2010-03-31         97.117092         95.002380  0.746314  0.647381   \n",
       "    2010-04-30         91.900319         62.078502  0.672877  0.671609   \n",
       "    2010-05-31        -70.195572        -70.460715 -0.265806  0.031018   \n",
       "\n",
       "                   RSI_30     RSI_21     RSI_14          MFV_      volume  \\\n",
       "tic date                                                                    \n",
       "A   2010-01-31  21.977887  22.167983  22.354790 -3.921754e+06  57195750.0   \n",
       "    2010-02-28  50.976560  54.266663  58.994975 -8.045354e+06  77437416.0   \n",
       "    2010-03-31  71.249902  74.119115  75.979051 -4.642447e+05  85940921.0   \n",
       "    2010-04-30  65.896845  65.189972  63.838722 -1.526734e+06  76014979.0   \n",
       "    2010-05-31  43.897317  41.582252  39.448990  1.081992e+07  89202413.0   \n",
       "\n",
       "                nextwk_roi  \n",
       "tic date                    \n",
       "A   2010-01-31   -7.199745  \n",
       "    2010-02-28   13.955966  \n",
       "    2010-03-31    9.926822  \n",
       "    2010-04-30    6.456283  \n",
       "    2010-05-31  -13.753425  "
      ]
     },
     "execution_count": 38,
     "metadata": {},
     "output_type": "execute_result"
    }
   ],
   "source": [
    "aapl_all.head(5)"
   ]
  },
  {
   "cell_type": "code",
   "execution_count": 41,
   "metadata": {},
   "outputs": [
    {
     "data": {
      "text/plain": [
       "(51272, 16)"
      ]
     },
     "execution_count": 41,
     "metadata": {},
     "output_type": "execute_result"
    }
   ],
   "source": [
    "aapl_all.shape"
   ]
  },
  {
   "cell_type": "code",
   "execution_count": 40,
   "metadata": {},
   "outputs": [],
   "source": [
    "aapl_all.dropna(inplace=True)"
   ]
  },
  {
   "cell_type": "code",
   "execution_count": 42,
   "metadata": {},
   "outputs": [
    {
     "data": {
      "text/html": [
       "<div>\n",
       "<style scoped>\n",
       "    .dataframe tbody tr th:only-of-type {\n",
       "        vertical-align: middle;\n",
       "    }\n",
       "\n",
       "    .dataframe tbody tr th {\n",
       "        vertical-align: top;\n",
       "    }\n",
       "\n",
       "    .dataframe thead th {\n",
       "        text-align: right;\n",
       "    }\n",
       "</style>\n",
       "<table border=\"1\" class=\"dataframe\">\n",
       "  <thead>\n",
       "    <tr style=\"text-align: right;\">\n",
       "      <th></th>\n",
       "      <th></th>\n",
       "      <th>tic</th>\n",
       "      <th>close</th>\n",
       "      <th>high</th>\n",
       "      <th>low</th>\n",
       "      <th>open</th>\n",
       "      <th>30 period CCI_30</th>\n",
       "      <th>21 period CCI_21</th>\n",
       "      <th>14 period CCI_14</th>\n",
       "      <th>MACD</th>\n",
       "      <th>SIGNAL</th>\n",
       "      <th>RSI_30</th>\n",
       "      <th>RSI_21</th>\n",
       "      <th>RSI_14</th>\n",
       "      <th>MFV_</th>\n",
       "      <th>volume</th>\n",
       "      <th>nextwk_roi</th>\n",
       "    </tr>\n",
       "    <tr>\n",
       "      <th>tic</th>\n",
       "      <th>date</th>\n",
       "      <th></th>\n",
       "      <th></th>\n",
       "      <th></th>\n",
       "      <th></th>\n",
       "      <th></th>\n",
       "      <th></th>\n",
       "      <th></th>\n",
       "      <th></th>\n",
       "      <th></th>\n",
       "      <th></th>\n",
       "      <th></th>\n",
       "      <th></th>\n",
       "      <th></th>\n",
       "      <th></th>\n",
       "      <th></th>\n",
       "      <th></th>\n",
       "    </tr>\n",
       "  </thead>\n",
       "  <tbody>\n",
       "    <tr>\n",
       "      <th rowspan=\"5\" valign=\"top\">A</th>\n",
       "      <th>2010-01-31</th>\n",
       "      <td>A</td>\n",
       "      <td>31.30</td>\n",
       "      <td>31.63</td>\n",
       "      <td>31.1314</td>\n",
       "      <td>31.39</td>\n",
       "      <td>-79.431503</td>\n",
       "      <td>-79.431503</td>\n",
       "      <td>-76.739788</td>\n",
       "      <td>-0.090456</td>\n",
       "      <td>-0.049555</td>\n",
       "      <td>21.977887</td>\n",
       "      <td>22.167983</td>\n",
       "      <td>22.354790</td>\n",
       "      <td>-3.921754e+06</td>\n",
       "      <td>57195750.0</td>\n",
       "      <td>-7.199745</td>\n",
       "    </tr>\n",
       "    <tr>\n",
       "      <th>2010-02-28</th>\n",
       "      <td>A</td>\n",
       "      <td>29.13</td>\n",
       "      <td>29.32</td>\n",
       "      <td>28.1300</td>\n",
       "      <td>28.16</td>\n",
       "      <td>8.530224</td>\n",
       "      <td>27.906036</td>\n",
       "      <td>47.853030</td>\n",
       "      <td>-0.046036</td>\n",
       "      <td>-0.133512</td>\n",
       "      <td>50.976560</td>\n",
       "      <td>54.266663</td>\n",
       "      <td>58.994975</td>\n",
       "      <td>-8.045354e+06</td>\n",
       "      <td>77437416.0</td>\n",
       "      <td>13.955966</td>\n",
       "    </tr>\n",
       "    <tr>\n",
       "      <th>2010-03-31</th>\n",
       "      <td>A</td>\n",
       "      <td>32.09</td>\n",
       "      <td>32.13</td>\n",
       "      <td>31.4300</td>\n",
       "      <td>31.43</td>\n",
       "      <td>106.482094</td>\n",
       "      <td>97.117092</td>\n",
       "      <td>95.002380</td>\n",
       "      <td>0.746314</td>\n",
       "      <td>0.647381</td>\n",
       "      <td>71.249902</td>\n",
       "      <td>74.119115</td>\n",
       "      <td>75.979051</td>\n",
       "      <td>-4.642447e+05</td>\n",
       "      <td>85940921.0</td>\n",
       "      <td>9.926822</td>\n",
       "    </tr>\n",
       "    <tr>\n",
       "      <th>2010-04-30</th>\n",
       "      <td>A</td>\n",
       "      <td>34.55</td>\n",
       "      <td>34.87</td>\n",
       "      <td>34.2500</td>\n",
       "      <td>34.54</td>\n",
       "      <td>103.617392</td>\n",
       "      <td>91.900319</td>\n",
       "      <td>62.078502</td>\n",
       "      <td>0.672877</td>\n",
       "      <td>0.671609</td>\n",
       "      <td>65.896845</td>\n",
       "      <td>65.189972</td>\n",
       "      <td>63.838722</td>\n",
       "      <td>-1.526734e+06</td>\n",
       "      <td>76014979.0</td>\n",
       "      <td>6.456283</td>\n",
       "    </tr>\n",
       "    <tr>\n",
       "      <th>2010-05-31</th>\n",
       "      <td>A</td>\n",
       "      <td>36.77</td>\n",
       "      <td>36.89</td>\n",
       "      <td>36.3700</td>\n",
       "      <td>36.50</td>\n",
       "      <td>-73.001477</td>\n",
       "      <td>-70.195572</td>\n",
       "      <td>-70.460715</td>\n",
       "      <td>-0.265806</td>\n",
       "      <td>0.031018</td>\n",
       "      <td>43.897317</td>\n",
       "      <td>41.582252</td>\n",
       "      <td>39.448990</td>\n",
       "      <td>1.081992e+07</td>\n",
       "      <td>89202413.0</td>\n",
       "      <td>-13.753425</td>\n",
       "    </tr>\n",
       "  </tbody>\n",
       "</table>\n",
       "</div>"
      ],
      "text/plain": [
       "               tic  close   high      low   open  30 period CCI_30  \\\n",
       "tic date                                                             \n",
       "A   2010-01-31   A  31.30  31.63  31.1314  31.39        -79.431503   \n",
       "    2010-02-28   A  29.13  29.32  28.1300  28.16          8.530224   \n",
       "    2010-03-31   A  32.09  32.13  31.4300  31.43        106.482094   \n",
       "    2010-04-30   A  34.55  34.87  34.2500  34.54        103.617392   \n",
       "    2010-05-31   A  36.77  36.89  36.3700  36.50        -73.001477   \n",
       "\n",
       "                21 period CCI_21  14 period CCI_14      MACD    SIGNAL  \\\n",
       "tic date                                                                 \n",
       "A   2010-01-31        -79.431503        -76.739788 -0.090456 -0.049555   \n",
       "    2010-02-28         27.906036         47.853030 -0.046036 -0.133512   \n",
       "    2010-03-31         97.117092         95.002380  0.746314  0.647381   \n",
       "    2010-04-30         91.900319         62.078502  0.672877  0.671609   \n",
       "    2010-05-31        -70.195572        -70.460715 -0.265806  0.031018   \n",
       "\n",
       "                   RSI_30     RSI_21     RSI_14          MFV_      volume  \\\n",
       "tic date                                                                    \n",
       "A   2010-01-31  21.977887  22.167983  22.354790 -3.921754e+06  57195750.0   \n",
       "    2010-02-28  50.976560  54.266663  58.994975 -8.045354e+06  77437416.0   \n",
       "    2010-03-31  71.249902  74.119115  75.979051 -4.642447e+05  85940921.0   \n",
       "    2010-04-30  65.896845  65.189972  63.838722 -1.526734e+06  76014979.0   \n",
       "    2010-05-31  43.897317  41.582252  39.448990  1.081992e+07  89202413.0   \n",
       "\n",
       "                nextwk_roi  \n",
       "tic date                    \n",
       "A   2010-01-31   -7.199745  \n",
       "    2010-02-28   13.955966  \n",
       "    2010-03-31    9.926822  \n",
       "    2010-04-30    6.456283  \n",
       "    2010-05-31  -13.753425  "
      ]
     },
     "execution_count": 42,
     "metadata": {},
     "output_type": "execute_result"
    }
   ],
   "source": [
    "aapl_all.head()"
   ]
  },
  {
   "cell_type": "code",
   "execution_count": 43,
   "metadata": {},
   "outputs": [],
   "source": [
    "# drop large return outliers\n",
    "aapl_all = aapl_all[(aapl_all.nextwk_roi.abs() < 50)]"
   ]
  },
  {
   "cell_type": "code",
   "execution_count": 44,
   "metadata": {},
   "outputs": [],
   "source": [
    "X = aapl_all.nextwk_roi.values.reshape(-1, 1)"
   ]
  },
  {
   "cell_type": "code",
   "execution_count": 45,
   "metadata": {
    "collapsed": true,
    "jupyter": {
     "outputs_hidden": true
    }
   },
   "outputs": [
    {
     "name": "stderr",
     "output_type": "stream",
     "text": [
      "  0%|          | 0/8 [00:00<?, ?it/s]"
     ]
    },
    {
     "ename": "KeyboardInterrupt",
     "evalue": "",
     "output_type": "error",
     "traceback": [
      "\u001b[0;31m---------------------------------------------------------------------------\u001b[0m",
      "\u001b[0;31mKeyboardInterrupt\u001b[0m                         Traceback (most recent call last)",
      "\u001b[0;32m<ipython-input-45-37b62550523a>\u001b[0m in \u001b[0;36m<module>\u001b[0;34m()\u001b[0m\n\u001b[1;32m      5\u001b[0m     \u001b[0my_hat\u001b[0m \u001b[0;34m=\u001b[0m \u001b[0mk_means\u001b[0m\u001b[0;34m.\u001b[0m\u001b[0mpredict\u001b[0m\u001b[0;34m(\u001b[0m\u001b[0mX\u001b[0m\u001b[0;34m)\u001b[0m\u001b[0;34m\u001b[0m\u001b[0m\n\u001b[1;32m      6\u001b[0m     \u001b[0mlabels\u001b[0m \u001b[0;34m=\u001b[0m \u001b[0mk_means\u001b[0m\u001b[0;34m.\u001b[0m\u001b[0mlabels_\u001b[0m\u001b[0;34m\u001b[0m\u001b[0m\n\u001b[0;32m----> 7\u001b[0;31m     \u001b[0msilhouette\u001b[0m \u001b[0;34m=\u001b[0m \u001b[0msilhouette_score\u001b[0m\u001b[0;34m(\u001b[0m\u001b[0mX\u001b[0m\u001b[0;34m,\u001b[0m \u001b[0mlabels\u001b[0m\u001b[0;34m)\u001b[0m\u001b[0;34m\u001b[0m\u001b[0m\n\u001b[0m\u001b[1;32m      8\u001b[0m     \u001b[0msil_scores\u001b[0m\u001b[0;34m[\u001b[0m\u001b[0mi\u001b[0m\u001b[0;34m]\u001b[0m \u001b[0;34m=\u001b[0m \u001b[0msilhouette\u001b[0m\u001b[0;34m\u001b[0m\u001b[0m\n",
      "\u001b[0;32m~/anaconda3/envs/learn-env/lib/python3.6/site-packages/sklearn/metrics/cluster/unsupervised.py\u001b[0m in \u001b[0;36msilhouette_score\u001b[0;34m(X, labels, metric, sample_size, random_state, **kwds)\u001b[0m\n\u001b[1;32m    115\u001b[0m         \u001b[0;32melse\u001b[0m\u001b[0;34m:\u001b[0m\u001b[0;34m\u001b[0m\u001b[0m\n\u001b[1;32m    116\u001b[0m             \u001b[0mX\u001b[0m\u001b[0;34m,\u001b[0m \u001b[0mlabels\u001b[0m \u001b[0;34m=\u001b[0m \u001b[0mX\u001b[0m\u001b[0;34m[\u001b[0m\u001b[0mindices\u001b[0m\u001b[0;34m]\u001b[0m\u001b[0;34m,\u001b[0m \u001b[0mlabels\u001b[0m\u001b[0;34m[\u001b[0m\u001b[0mindices\u001b[0m\u001b[0;34m]\u001b[0m\u001b[0;34m\u001b[0m\u001b[0m\n\u001b[0;32m--> 117\u001b[0;31m     \u001b[0;32mreturn\u001b[0m \u001b[0mnp\u001b[0m\u001b[0;34m.\u001b[0m\u001b[0mmean\u001b[0m\u001b[0;34m(\u001b[0m\u001b[0msilhouette_samples\u001b[0m\u001b[0;34m(\u001b[0m\u001b[0mX\u001b[0m\u001b[0;34m,\u001b[0m \u001b[0mlabels\u001b[0m\u001b[0;34m,\u001b[0m \u001b[0mmetric\u001b[0m\u001b[0;34m=\u001b[0m\u001b[0mmetric\u001b[0m\u001b[0;34m,\u001b[0m \u001b[0;34m**\u001b[0m\u001b[0mkwds\u001b[0m\u001b[0;34m)\u001b[0m\u001b[0;34m)\u001b[0m\u001b[0;34m\u001b[0m\u001b[0m\n\u001b[0m\u001b[1;32m    118\u001b[0m \u001b[0;34m\u001b[0m\u001b[0m\n\u001b[1;32m    119\u001b[0m \u001b[0;34m\u001b[0m\u001b[0m\n",
      "\u001b[0;32m~/anaconda3/envs/learn-env/lib/python3.6/site-packages/sklearn/metrics/cluster/unsupervised.py\u001b[0m in \u001b[0;36msilhouette_samples\u001b[0;34m(X, labels, metric, **kwds)\u001b[0m\n\u001b[1;32m    221\u001b[0m                                     labels=labels, label_freqs=label_freqs)\n\u001b[1;32m    222\u001b[0m     results = zip(*pairwise_distances_chunked(X, reduce_func=reduce_func,\n\u001b[0;32m--> 223\u001b[0;31m                                               **kwds))\n\u001b[0m\u001b[1;32m    224\u001b[0m     \u001b[0mintra_clust_dists\u001b[0m\u001b[0;34m,\u001b[0m \u001b[0minter_clust_dists\u001b[0m \u001b[0;34m=\u001b[0m \u001b[0mresults\u001b[0m\u001b[0;34m\u001b[0m\u001b[0m\n\u001b[1;32m    225\u001b[0m     \u001b[0mintra_clust_dists\u001b[0m \u001b[0;34m=\u001b[0m \u001b[0mnp\u001b[0m\u001b[0;34m.\u001b[0m\u001b[0mconcatenate\u001b[0m\u001b[0;34m(\u001b[0m\u001b[0mintra_clust_dists\u001b[0m\u001b[0;34m)\u001b[0m\u001b[0;34m\u001b[0m\u001b[0m\n",
      "\u001b[0;32m~/anaconda3/envs/learn-env/lib/python3.6/site-packages/sklearn/metrics/pairwise.py\u001b[0m in \u001b[0;36mpairwise_distances_chunked\u001b[0;34m(X, Y, reduce_func, metric, n_jobs, working_memory, **kwds)\u001b[0m\n\u001b[1;32m   1446\u001b[0m             \u001b[0mX_chunk\u001b[0m \u001b[0;34m=\u001b[0m \u001b[0mX\u001b[0m\u001b[0;34m[\u001b[0m\u001b[0msl\u001b[0m\u001b[0;34m]\u001b[0m\u001b[0;34m\u001b[0m\u001b[0m\n\u001b[1;32m   1447\u001b[0m         D_chunk = pairwise_distances(X_chunk, Y, metric=metric,\n\u001b[0;32m-> 1448\u001b[0;31m                                      n_jobs=n_jobs, **kwds)\n\u001b[0m\u001b[1;32m   1449\u001b[0m         if ((X is Y or Y is None)\n\u001b[1;32m   1450\u001b[0m                 \u001b[0;32mand\u001b[0m \u001b[0mPAIRWISE_DISTANCE_FUNCTIONS\u001b[0m\u001b[0;34m.\u001b[0m\u001b[0mget\u001b[0m\u001b[0;34m(\u001b[0m\u001b[0mmetric\u001b[0m\u001b[0;34m,\u001b[0m \u001b[0;32mNone\u001b[0m\u001b[0;34m)\u001b[0m\u001b[0;34m\u001b[0m\u001b[0m\n",
      "\u001b[0;32m~/anaconda3/envs/learn-env/lib/python3.6/site-packages/sklearn/metrics/pairwise.py\u001b[0m in \u001b[0;36mpairwise_distances\u001b[0;34m(X, Y, metric, n_jobs, **kwds)\u001b[0m\n\u001b[1;32m   1586\u001b[0m         \u001b[0mfunc\u001b[0m \u001b[0;34m=\u001b[0m \u001b[0mpartial\u001b[0m\u001b[0;34m(\u001b[0m\u001b[0mdistance\u001b[0m\u001b[0;34m.\u001b[0m\u001b[0mcdist\u001b[0m\u001b[0;34m,\u001b[0m \u001b[0mmetric\u001b[0m\u001b[0;34m=\u001b[0m\u001b[0mmetric\u001b[0m\u001b[0;34m,\u001b[0m \u001b[0;34m**\u001b[0m\u001b[0mkwds\u001b[0m\u001b[0;34m)\u001b[0m\u001b[0;34m\u001b[0m\u001b[0m\n\u001b[1;32m   1587\u001b[0m \u001b[0;34m\u001b[0m\u001b[0m\n\u001b[0;32m-> 1588\u001b[0;31m     \u001b[0;32mreturn\u001b[0m \u001b[0m_parallel_pairwise\u001b[0m\u001b[0;34m(\u001b[0m\u001b[0mX\u001b[0m\u001b[0;34m,\u001b[0m \u001b[0mY\u001b[0m\u001b[0;34m,\u001b[0m \u001b[0mfunc\u001b[0m\u001b[0;34m,\u001b[0m \u001b[0mn_jobs\u001b[0m\u001b[0;34m,\u001b[0m \u001b[0;34m**\u001b[0m\u001b[0mkwds\u001b[0m\u001b[0;34m)\u001b[0m\u001b[0;34m\u001b[0m\u001b[0m\n\u001b[0m\u001b[1;32m   1589\u001b[0m \u001b[0;34m\u001b[0m\u001b[0m\n\u001b[1;32m   1590\u001b[0m \u001b[0;34m\u001b[0m\u001b[0m\n",
      "\u001b[0;32m~/anaconda3/envs/learn-env/lib/python3.6/site-packages/sklearn/metrics/pairwise.py\u001b[0m in \u001b[0;36m_parallel_pairwise\u001b[0;34m(X, Y, func, n_jobs, **kwds)\u001b[0m\n\u001b[1;32m   1204\u001b[0m \u001b[0;34m\u001b[0m\u001b[0m\n\u001b[1;32m   1205\u001b[0m     \u001b[0;32mif\u001b[0m \u001b[0meffective_n_jobs\u001b[0m\u001b[0;34m(\u001b[0m\u001b[0mn_jobs\u001b[0m\u001b[0;34m)\u001b[0m \u001b[0;34m==\u001b[0m \u001b[0;36m1\u001b[0m\u001b[0;34m:\u001b[0m\u001b[0;34m\u001b[0m\u001b[0m\n\u001b[0;32m-> 1206\u001b[0;31m         \u001b[0;32mreturn\u001b[0m \u001b[0mfunc\u001b[0m\u001b[0;34m(\u001b[0m\u001b[0mX\u001b[0m\u001b[0;34m,\u001b[0m \u001b[0mY\u001b[0m\u001b[0;34m,\u001b[0m \u001b[0;34m**\u001b[0m\u001b[0mkwds\u001b[0m\u001b[0;34m)\u001b[0m\u001b[0;34m\u001b[0m\u001b[0m\n\u001b[0m\u001b[1;32m   1207\u001b[0m \u001b[0;34m\u001b[0m\u001b[0m\n\u001b[1;32m   1208\u001b[0m     \u001b[0;31m# enforce a threading backend to prevent data communication overhead\u001b[0m\u001b[0;34m\u001b[0m\u001b[0;34m\u001b[0m\u001b[0m\n",
      "\u001b[0;32m~/anaconda3/envs/learn-env/lib/python3.6/site-packages/sklearn/metrics/pairwise.py\u001b[0m in \u001b[0;36meuclidean_distances\u001b[0;34m(X, Y, Y_norm_squared, squared, X_norm_squared)\u001b[0m\n\u001b[1;32m    271\u001b[0m     \u001b[0;32melse\u001b[0m\u001b[0;34m:\u001b[0m\u001b[0;34m\u001b[0m\u001b[0m\n\u001b[1;32m    272\u001b[0m         \u001b[0;31m# if dtype is already float64, no need to chunk and upcast\u001b[0m\u001b[0;34m\u001b[0m\u001b[0;34m\u001b[0m\u001b[0m\n\u001b[0;32m--> 273\u001b[0;31m         \u001b[0mdistances\u001b[0m \u001b[0;34m=\u001b[0m \u001b[0;34m-\u001b[0m \u001b[0;36m2\u001b[0m \u001b[0;34m*\u001b[0m \u001b[0msafe_sparse_dot\u001b[0m\u001b[0;34m(\u001b[0m\u001b[0mX\u001b[0m\u001b[0;34m,\u001b[0m \u001b[0mY\u001b[0m\u001b[0;34m.\u001b[0m\u001b[0mT\u001b[0m\u001b[0;34m,\u001b[0m \u001b[0mdense_output\u001b[0m\u001b[0;34m=\u001b[0m\u001b[0;32mTrue\u001b[0m\u001b[0;34m)\u001b[0m\u001b[0;34m\u001b[0m\u001b[0m\n\u001b[0m\u001b[1;32m    274\u001b[0m         \u001b[0mdistances\u001b[0m \u001b[0;34m+=\u001b[0m \u001b[0mXX\u001b[0m\u001b[0;34m\u001b[0m\u001b[0m\n\u001b[1;32m    275\u001b[0m         \u001b[0mdistances\u001b[0m \u001b[0;34m+=\u001b[0m \u001b[0mYY\u001b[0m\u001b[0;34m\u001b[0m\u001b[0m\n",
      "\u001b[0;32m~/anaconda3/envs/learn-env/lib/python3.6/site-packages/sklearn/utils/extmath.py\u001b[0m in \u001b[0;36msafe_sparse_dot\u001b[0;34m(a, b, dense_output)\u001b[0m\n\u001b[1;32m    140\u001b[0m         \u001b[0;32mreturn\u001b[0m \u001b[0mret\u001b[0m\u001b[0;34m\u001b[0m\u001b[0m\n\u001b[1;32m    141\u001b[0m     \u001b[0;32melse\u001b[0m\u001b[0;34m:\u001b[0m\u001b[0;34m\u001b[0m\u001b[0m\n\u001b[0;32m--> 142\u001b[0;31m         \u001b[0;32mreturn\u001b[0m \u001b[0mnp\u001b[0m\u001b[0;34m.\u001b[0m\u001b[0mdot\u001b[0m\u001b[0;34m(\u001b[0m\u001b[0ma\u001b[0m\u001b[0;34m,\u001b[0m \u001b[0mb\u001b[0m\u001b[0;34m)\u001b[0m\u001b[0;34m\u001b[0m\u001b[0m\n\u001b[0m\u001b[1;32m    143\u001b[0m \u001b[0;34m\u001b[0m\u001b[0m\n\u001b[1;32m    144\u001b[0m \u001b[0;34m\u001b[0m\u001b[0m\n",
      "\u001b[0;31mKeyboardInterrupt\u001b[0m: "
     ]
    }
   ],
   "source": [
    "sil_scores = {}\n",
    "for i in tqdm(range(2, 10)):\n",
    "    k_means = KMeans(n_clusters=i)\n",
    "    k_means.fit(X)\n",
    "    y_hat = k_means.predict(X)\n",
    "    labels = k_means.labels_\n",
    "    silhouette = silhouette_score(X, labels)\n",
    "    sil_scores[i] = silhouette"
   ]
  },
  {
   "cell_type": "code",
   "execution_count": 401,
   "metadata": {},
   "outputs": [
    {
     "data": {
      "text/plain": [
       "[(9, 0.5304155481789161),\n",
       " (3, 0.5301239880859581),\n",
       " (6, 0.5267693427802397),\n",
       " (5, 0.5229928568850736),\n",
       " (8, 0.5215245999794305),\n",
       " (7, 0.5142350663362891),\n",
       " (4, 0.507566952341881),\n",
       " (2, 0.5013257454677106)]"
      ]
     },
     "execution_count": 401,
     "metadata": {},
     "output_type": "execute_result"
    }
   ],
   "source": [
    "sorted(sil_scores.items(), key=lambda x: x[1], reverse=True)"
   ]
  },
  {
   "cell_type": "code",
   "execution_count": 46,
   "metadata": {},
   "outputs": [],
   "source": [
    "k_means = KMeans(n_clusters=3)\n",
    "k_means.fit(X)\n",
    "y_hat = k_means.predict(X)\n",
    "labels = k_means.labels_"
   ]
  },
  {
   "cell_type": "code",
   "execution_count": 47,
   "metadata": {},
   "outputs": [],
   "source": [
    "aapl_all['roi_class'] = labels"
   ]
  },
  {
   "cell_type": "code",
   "execution_count": 48,
   "metadata": {},
   "outputs": [
    {
     "data": {
      "text/html": [
       "<div>\n",
       "<style scoped>\n",
       "    .dataframe tbody tr th:only-of-type {\n",
       "        vertical-align: middle;\n",
       "    }\n",
       "\n",
       "    .dataframe tbody tr th {\n",
       "        vertical-align: top;\n",
       "    }\n",
       "\n",
       "    .dataframe thead th {\n",
       "        text-align: right;\n",
       "    }\n",
       "</style>\n",
       "<table border=\"1\" class=\"dataframe\">\n",
       "  <thead>\n",
       "    <tr style=\"text-align: right;\">\n",
       "      <th></th>\n",
       "      <th></th>\n",
       "      <th>tic</th>\n",
       "      <th>close</th>\n",
       "      <th>high</th>\n",
       "      <th>low</th>\n",
       "      <th>open</th>\n",
       "      <th>30 period CCI_30</th>\n",
       "      <th>21 period CCI_21</th>\n",
       "      <th>14 period CCI_14</th>\n",
       "      <th>MACD</th>\n",
       "      <th>SIGNAL</th>\n",
       "      <th>RSI_30</th>\n",
       "      <th>RSI_21</th>\n",
       "      <th>RSI_14</th>\n",
       "      <th>MFV_</th>\n",
       "      <th>volume</th>\n",
       "      <th>nextwk_roi</th>\n",
       "      <th>roi_class</th>\n",
       "    </tr>\n",
       "    <tr>\n",
       "      <th>tic</th>\n",
       "      <th>date</th>\n",
       "      <th></th>\n",
       "      <th></th>\n",
       "      <th></th>\n",
       "      <th></th>\n",
       "      <th></th>\n",
       "      <th></th>\n",
       "      <th></th>\n",
       "      <th></th>\n",
       "      <th></th>\n",
       "      <th></th>\n",
       "      <th></th>\n",
       "      <th></th>\n",
       "      <th></th>\n",
       "      <th></th>\n",
       "      <th></th>\n",
       "      <th></th>\n",
       "      <th></th>\n",
       "    </tr>\n",
       "  </thead>\n",
       "  <tbody>\n",
       "    <tr>\n",
       "      <th rowspan=\"5\" valign=\"top\">A</th>\n",
       "      <th>2010-01-31</th>\n",
       "      <td>A</td>\n",
       "      <td>31.30</td>\n",
       "      <td>31.63</td>\n",
       "      <td>31.1314</td>\n",
       "      <td>31.39</td>\n",
       "      <td>-79.431503</td>\n",
       "      <td>-79.431503</td>\n",
       "      <td>-76.739788</td>\n",
       "      <td>-0.090456</td>\n",
       "      <td>-0.049555</td>\n",
       "      <td>21.977887</td>\n",
       "      <td>22.167983</td>\n",
       "      <td>22.354790</td>\n",
       "      <td>-3.921754e+06</td>\n",
       "      <td>57195750.0</td>\n",
       "      <td>-7.199745</td>\n",
       "      <td>0</td>\n",
       "    </tr>\n",
       "    <tr>\n",
       "      <th>2010-02-28</th>\n",
       "      <td>A</td>\n",
       "      <td>29.13</td>\n",
       "      <td>29.32</td>\n",
       "      <td>28.1300</td>\n",
       "      <td>28.16</td>\n",
       "      <td>8.530224</td>\n",
       "      <td>27.906036</td>\n",
       "      <td>47.853030</td>\n",
       "      <td>-0.046036</td>\n",
       "      <td>-0.133512</td>\n",
       "      <td>50.976560</td>\n",
       "      <td>54.266663</td>\n",
       "      <td>58.994975</td>\n",
       "      <td>-8.045354e+06</td>\n",
       "      <td>77437416.0</td>\n",
       "      <td>13.955966</td>\n",
       "      <td>2</td>\n",
       "    </tr>\n",
       "    <tr>\n",
       "      <th>2010-03-31</th>\n",
       "      <td>A</td>\n",
       "      <td>32.09</td>\n",
       "      <td>32.13</td>\n",
       "      <td>31.4300</td>\n",
       "      <td>31.43</td>\n",
       "      <td>106.482094</td>\n",
       "      <td>97.117092</td>\n",
       "      <td>95.002380</td>\n",
       "      <td>0.746314</td>\n",
       "      <td>0.647381</td>\n",
       "      <td>71.249902</td>\n",
       "      <td>74.119115</td>\n",
       "      <td>75.979051</td>\n",
       "      <td>-4.642447e+05</td>\n",
       "      <td>85940921.0</td>\n",
       "      <td>9.926822</td>\n",
       "      <td>2</td>\n",
       "    </tr>\n",
       "    <tr>\n",
       "      <th>2010-04-30</th>\n",
       "      <td>A</td>\n",
       "      <td>34.55</td>\n",
       "      <td>34.87</td>\n",
       "      <td>34.2500</td>\n",
       "      <td>34.54</td>\n",
       "      <td>103.617392</td>\n",
       "      <td>91.900319</td>\n",
       "      <td>62.078502</td>\n",
       "      <td>0.672877</td>\n",
       "      <td>0.671609</td>\n",
       "      <td>65.896845</td>\n",
       "      <td>65.189972</td>\n",
       "      <td>63.838722</td>\n",
       "      <td>-1.526734e+06</td>\n",
       "      <td>76014979.0</td>\n",
       "      <td>6.456283</td>\n",
       "      <td>2</td>\n",
       "    </tr>\n",
       "    <tr>\n",
       "      <th>2010-05-31</th>\n",
       "      <td>A</td>\n",
       "      <td>36.77</td>\n",
       "      <td>36.89</td>\n",
       "      <td>36.3700</td>\n",
       "      <td>36.50</td>\n",
       "      <td>-73.001477</td>\n",
       "      <td>-70.195572</td>\n",
       "      <td>-70.460715</td>\n",
       "      <td>-0.265806</td>\n",
       "      <td>0.031018</td>\n",
       "      <td>43.897317</td>\n",
       "      <td>41.582252</td>\n",
       "      <td>39.448990</td>\n",
       "      <td>1.081992e+07</td>\n",
       "      <td>89202413.0</td>\n",
       "      <td>-13.753425</td>\n",
       "      <td>0</td>\n",
       "    </tr>\n",
       "  </tbody>\n",
       "</table>\n",
       "</div>"
      ],
      "text/plain": [
       "               tic  close   high      low   open  30 period CCI_30  \\\n",
       "tic date                                                             \n",
       "A   2010-01-31   A  31.30  31.63  31.1314  31.39        -79.431503   \n",
       "    2010-02-28   A  29.13  29.32  28.1300  28.16          8.530224   \n",
       "    2010-03-31   A  32.09  32.13  31.4300  31.43        106.482094   \n",
       "    2010-04-30   A  34.55  34.87  34.2500  34.54        103.617392   \n",
       "    2010-05-31   A  36.77  36.89  36.3700  36.50        -73.001477   \n",
       "\n",
       "                21 period CCI_21  14 period CCI_14      MACD    SIGNAL  \\\n",
       "tic date                                                                 \n",
       "A   2010-01-31        -79.431503        -76.739788 -0.090456 -0.049555   \n",
       "    2010-02-28         27.906036         47.853030 -0.046036 -0.133512   \n",
       "    2010-03-31         97.117092         95.002380  0.746314  0.647381   \n",
       "    2010-04-30         91.900319         62.078502  0.672877  0.671609   \n",
       "    2010-05-31        -70.195572        -70.460715 -0.265806  0.031018   \n",
       "\n",
       "                   RSI_30     RSI_21     RSI_14          MFV_      volume  \\\n",
       "tic date                                                                    \n",
       "A   2010-01-31  21.977887  22.167983  22.354790 -3.921754e+06  57195750.0   \n",
       "    2010-02-28  50.976560  54.266663  58.994975 -8.045354e+06  77437416.0   \n",
       "    2010-03-31  71.249902  74.119115  75.979051 -4.642447e+05  85940921.0   \n",
       "    2010-04-30  65.896845  65.189972  63.838722 -1.526734e+06  76014979.0   \n",
       "    2010-05-31  43.897317  41.582252  39.448990  1.081992e+07  89202413.0   \n",
       "\n",
       "                nextwk_roi  roi_class  \n",
       "tic date                               \n",
       "A   2010-01-31   -7.199745          0  \n",
       "    2010-02-28   13.955966          2  \n",
       "    2010-03-31    9.926822          2  \n",
       "    2010-04-30    6.456283          2  \n",
       "    2010-05-31  -13.753425          0  "
      ]
     },
     "execution_count": 48,
     "metadata": {},
     "output_type": "execute_result"
    }
   ],
   "source": [
    "aapl_all.head()"
   ]
  },
  {
   "cell_type": "code",
   "execution_count": null,
   "metadata": {},
   "outputs": [],
   "source": []
  },
  {
   "cell_type": "code",
   "execution_count": null,
   "metadata": {},
   "outputs": [],
   "source": []
  },
  {
   "cell_type": "code",
   "execution_count": 281,
   "metadata": {},
   "outputs": [],
   "source": [
    "aapl_ohlc = aapl.groupby(['tic'])['close'].resample('1w').ohlc()"
   ]
  },
  {
   "cell_type": "code",
   "execution_count": 282,
   "metadata": {},
   "outputs": [],
   "source": [
    "aapl_vol = aapl.groupby(['tic'])['volume'].resample('1w').ohlc()"
   ]
  },
  {
   "cell_type": "code",
   "execution_count": 283,
   "metadata": {},
   "outputs": [],
   "source": [
    "aapl_ohlc.reset_index(inplace=True)\n",
    "aapl_vol.reset_index(inplace=True)"
   ]
  },
  {
   "cell_type": "code",
   "execution_count": 284,
   "metadata": {},
   "outputs": [],
   "source": [
    "aapl_weekly = pd.merge(aapl_ohlc, aapl_vol, how='inner', on=['tic', 'date'], suffixes=('_price', '_vol'))"
   ]
  },
  {
   "cell_type": "code",
   "execution_count": 286,
   "metadata": {},
   "outputs": [],
   "source": [
    "aapl_weekly.drop(columns=['open_vol','high_vol', 'low_vol'], inplace=True)"
   ]
  },
  {
   "cell_type": "code",
   "execution_count": 287,
   "metadata": {},
   "outputs": [],
   "source": [
    "aapl_weekly.columns = ['tic', 'date', 'open', 'high', 'low', 'close', 'volume']"
   ]
  },
  {
   "cell_type": "code",
   "execution_count": 288,
   "metadata": {},
   "outputs": [],
   "source": [
    "aapl_weekly['roi'] = ((aapl_weekly.close - aapl_weekly.open) / aapl_weekly.open) * 100"
   ]
  },
  {
   "cell_type": "code",
   "execution_count": 304,
   "metadata": {},
   "outputs": [],
   "source": []
  },
  {
   "cell_type": "code",
   "execution_count": 49,
   "metadata": {},
   "outputs": [
    {
     "data": {
      "text/html": [
       "<div>\n",
       "<style scoped>\n",
       "    .dataframe tbody tr th:only-of-type {\n",
       "        vertical-align: middle;\n",
       "    }\n",
       "\n",
       "    .dataframe tbody tr th {\n",
       "        vertical-align: top;\n",
       "    }\n",
       "\n",
       "    .dataframe thead th {\n",
       "        text-align: right;\n",
       "    }\n",
       "</style>\n",
       "<table border=\"1\" class=\"dataframe\">\n",
       "  <thead>\n",
       "    <tr style=\"text-align: right;\">\n",
       "      <th></th>\n",
       "      <th>close</th>\n",
       "      <th>high</th>\n",
       "      <th>low</th>\n",
       "      <th>open</th>\n",
       "      <th>30 period CCI_30</th>\n",
       "      <th>21 period CCI_21</th>\n",
       "      <th>14 period CCI_14</th>\n",
       "      <th>MACD</th>\n",
       "      <th>SIGNAL</th>\n",
       "      <th>RSI_30</th>\n",
       "      <th>RSI_21</th>\n",
       "      <th>RSI_14</th>\n",
       "      <th>MFV_</th>\n",
       "      <th>volume</th>\n",
       "      <th>nextwk_roi</th>\n",
       "    </tr>\n",
       "    <tr>\n",
       "      <th>roi_class</th>\n",
       "      <th></th>\n",
       "      <th></th>\n",
       "      <th></th>\n",
       "      <th></th>\n",
       "      <th></th>\n",
       "      <th></th>\n",
       "      <th></th>\n",
       "      <th></th>\n",
       "      <th></th>\n",
       "      <th></th>\n",
       "      <th></th>\n",
       "      <th></th>\n",
       "      <th></th>\n",
       "      <th></th>\n",
       "      <th></th>\n",
       "    </tr>\n",
       "  </thead>\n",
       "  <tbody>\n",
       "    <tr>\n",
       "      <th>0</th>\n",
       "      <td>81.497597</td>\n",
       "      <td>82.579935</td>\n",
       "      <td>80.675347</td>\n",
       "      <td>81.817039</td>\n",
       "      <td>-52.690114</td>\n",
       "      <td>-51.651437</td>\n",
       "      <td>-45.311968</td>\n",
       "      <td>-0.675245</td>\n",
       "      <td>-0.415986</td>\n",
       "      <td>43.567318</td>\n",
       "      <td>42.085594</td>\n",
       "      <td>40.584161</td>\n",
       "      <td>2.397247e+08</td>\n",
       "      <td>1.242840e+08</td>\n",
       "      <td>-9.417667</td>\n",
       "    </tr>\n",
       "    <tr>\n",
       "      <th>1</th>\n",
       "      <td>82.570069</td>\n",
       "      <td>83.370082</td>\n",
       "      <td>81.716250</td>\n",
       "      <td>82.590068</td>\n",
       "      <td>21.199046</td>\n",
       "      <td>17.888073</td>\n",
       "      <td>14.036252</td>\n",
       "      <td>0.329194</td>\n",
       "      <td>0.329664</td>\n",
       "      <td>53.324032</td>\n",
       "      <td>53.401526</td>\n",
       "      <td>53.451937</td>\n",
       "      <td>7.670848e+07</td>\n",
       "      <td>8.750169e+07</td>\n",
       "      <td>1.117474</td>\n",
       "    </tr>\n",
       "    <tr>\n",
       "      <th>2</th>\n",
       "      <td>79.809178</td>\n",
       "      <td>80.598949</td>\n",
       "      <td>78.648087</td>\n",
       "      <td>79.487640</td>\n",
       "      <td>68.378188</td>\n",
       "      <td>66.701852</td>\n",
       "      <td>60.337200</td>\n",
       "      <td>0.884385</td>\n",
       "      <td>0.611089</td>\n",
       "      <td>59.341051</td>\n",
       "      <td>61.278587</td>\n",
       "      <td>63.358957</td>\n",
       "      <td>2.587971e+08</td>\n",
       "      <td>1.108418e+08</td>\n",
       "      <td>10.939641</td>\n",
       "    </tr>\n",
       "  </tbody>\n",
       "</table>\n",
       "</div>"
      ],
      "text/plain": [
       "               close       high        low       open  30 period CCI_30  \\\n",
       "roi_class                                                                 \n",
       "0          81.497597  82.579935  80.675347  81.817039        -52.690114   \n",
       "1          82.570069  83.370082  81.716250  82.590068         21.199046   \n",
       "2          79.809178  80.598949  78.648087  79.487640         68.378188   \n",
       "\n",
       "           21 period CCI_21  14 period CCI_14      MACD    SIGNAL     RSI_30  \\\n",
       "roi_class                                                                      \n",
       "0                -51.651437        -45.311968 -0.675245 -0.415986  43.567318   \n",
       "1                 17.888073         14.036252  0.329194  0.329664  53.324032   \n",
       "2                 66.701852         60.337200  0.884385  0.611089  59.341051   \n",
       "\n",
       "              RSI_21     RSI_14          MFV_        volume  nextwk_roi  \n",
       "roi_class                                                                \n",
       "0          42.085594  40.584161  2.397247e+08  1.242840e+08   -9.417667  \n",
       "1          53.401526  53.451937  7.670848e+07  8.750169e+07    1.117474  \n",
       "2          61.278587  63.358957  2.587971e+08  1.108418e+08   10.939641  "
      ]
     },
     "execution_count": 49,
     "metadata": {},
     "output_type": "execute_result"
    }
   ],
   "source": [
    "aapl_all.groupby('roi_class').mean()"
   ]
  },
  {
   "cell_type": "code",
   "execution_count": 295,
   "metadata": {},
   "outputs": [
    {
     "name": "stderr",
     "output_type": "stream",
     "text": [
      "/Users/flatironschool/anaconda3/envs/learn-env/lib/python3.6/site-packages/ipykernel_launcher.py:1: SettingWithCopyWarning: \n",
      "A value is trying to be set on a copy of a slice from a DataFrame\n",
      "\n",
      "See the caveats in the documentation: http://pandas.pydata.org/pandas-docs/stable/indexing.html#indexing-view-versus-copy\n",
      "  \"\"\"Entry point for launching an IPython kernel.\n"
     ]
    }
   ],
   "source": [
    "#aapl_weekly.sort_values(['tic','date'], inplace=True)"
   ]
  },
  {
   "cell_type": "code",
   "execution_count": 24,
   "metadata": {},
   "outputs": [],
   "source": [
    "#aapl['roi_class_shift1'] = aapl.roi_class.shift(-1)"
   ]
  },
  {
   "cell_type": "code",
   "execution_count": 296,
   "metadata": {},
   "outputs": [
    {
     "name": "stderr",
     "output_type": "stream",
     "text": [
      "/Users/flatironschool/anaconda3/envs/learn-env/lib/python3.6/site-packages/ipykernel_launcher.py:1: SettingWithCopyWarning: \n",
      "A value is trying to be set on a copy of a slice from a DataFrame.\n",
      "Try using .loc[row_indexer,col_indexer] = value instead\n",
      "\n",
      "See the caveats in the documentation: http://pandas.pydata.org/pandas-docs/stable/indexing.html#indexing-view-versus-copy\n",
      "  \"\"\"Entry point for launching an IPython kernel.\n"
     ]
    }
   ],
   "source": [
    "#aapl_weekly['roi_tomorrow']=aapl_weekly.groupby('tic')['roi_class'].shift(-1)"
   ]
  },
  {
   "cell_type": "code",
   "execution_count": 298,
   "metadata": {},
   "outputs": [
    {
     "data": {
      "text/html": [
       "<div>\n",
       "<style scoped>\n",
       "    .dataframe tbody tr th:only-of-type {\n",
       "        vertical-align: middle;\n",
       "    }\n",
       "\n",
       "    .dataframe tbody tr th {\n",
       "        vertical-align: top;\n",
       "    }\n",
       "\n",
       "    .dataframe thead th {\n",
       "        text-align: right;\n",
       "    }\n",
       "</style>\n",
       "<table border=\"1\" class=\"dataframe\">\n",
       "  <thead>\n",
       "    <tr style=\"text-align: right;\">\n",
       "      <th></th>\n",
       "      <th>tic</th>\n",
       "      <th>date</th>\n",
       "      <th>open</th>\n",
       "      <th>high</th>\n",
       "      <th>low</th>\n",
       "      <th>close</th>\n",
       "      <th>volume</th>\n",
       "      <th>roi</th>\n",
       "      <th>roi_class</th>\n",
       "      <th>roi_tomorrow</th>\n",
       "    </tr>\n",
       "  </thead>\n",
       "  <tbody>\n",
       "    <tr>\n",
       "      <th>0</th>\n",
       "      <td>A</td>\n",
       "      <td>2010-01-10</td>\n",
       "      <td>31.30</td>\n",
       "      <td>31.30</td>\n",
       "      <td>30.80</td>\n",
       "      <td>30.80</td>\n",
       "      <td>2670856.0</td>\n",
       "      <td>-1.597444</td>\n",
       "      <td>0</td>\n",
       "      <td>4.0</td>\n",
       "    </tr>\n",
       "    <tr>\n",
       "      <th>1</th>\n",
       "      <td>A</td>\n",
       "      <td>2010-01-17</td>\n",
       "      <td>30.82</td>\n",
       "      <td>31.15</td>\n",
       "      <td>30.43</td>\n",
       "      <td>30.43</td>\n",
       "      <td>3309434.0</td>\n",
       "      <td>-1.265412</td>\n",
       "      <td>4</td>\n",
       "      <td>0.0</td>\n",
       "    </tr>\n",
       "    <tr>\n",
       "      <th>2</th>\n",
       "      <td>A</td>\n",
       "      <td>2010-01-24</td>\n",
       "      <td>30.80</td>\n",
       "      <td>30.80</td>\n",
       "      <td>29.17</td>\n",
       "      <td>29.17</td>\n",
       "      <td>3049271.0</td>\n",
       "      <td>-5.292208</td>\n",
       "      <td>0</td>\n",
       "      <td>0.0</td>\n",
       "    </tr>\n",
       "    <tr>\n",
       "      <th>3</th>\n",
       "      <td>A</td>\n",
       "      <td>2010-01-31</td>\n",
       "      <td>29.45</td>\n",
       "      <td>29.45</td>\n",
       "      <td>28.03</td>\n",
       "      <td>28.03</td>\n",
       "      <td>4236738.0</td>\n",
       "      <td>-4.821732</td>\n",
       "      <td>0</td>\n",
       "      <td>4.0</td>\n",
       "    </tr>\n",
       "    <tr>\n",
       "      <th>4</th>\n",
       "      <td>A</td>\n",
       "      <td>2010-02-07</td>\n",
       "      <td>29.13</td>\n",
       "      <td>29.54</td>\n",
       "      <td>29.07</td>\n",
       "      <td>29.17</td>\n",
       "      <td>6828734.0</td>\n",
       "      <td>0.137315</td>\n",
       "      <td>4</td>\n",
       "      <td>1.0</td>\n",
       "    </tr>\n",
       "  </tbody>\n",
       "</table>\n",
       "</div>"
      ],
      "text/plain": [
       "  tic       date   open   high    low  close     volume       roi  roi_class  \\\n",
       "0   A 2010-01-10  31.30  31.30  30.80  30.80  2670856.0 -1.597444          0   \n",
       "1   A 2010-01-17  30.82  31.15  30.43  30.43  3309434.0 -1.265412          4   \n",
       "2   A 2010-01-24  30.80  30.80  29.17  29.17  3049271.0 -5.292208          0   \n",
       "3   A 2010-01-31  29.45  29.45  28.03  28.03  4236738.0 -4.821732          0   \n",
       "4   A 2010-02-07  29.13  29.54  29.07  29.17  6828734.0  0.137315          4   \n",
       "\n",
       "   roi_tomorrow  \n",
       "0           4.0  \n",
       "1           0.0  \n",
       "2           0.0  \n",
       "3           4.0  \n",
       "4           1.0  "
      ]
     },
     "execution_count": 298,
     "metadata": {},
     "output_type": "execute_result"
    }
   ],
   "source": [
    "#aapl_weekly.head()"
   ]
  },
  {
   "cell_type": "code",
   "execution_count": 152,
   "metadata": {},
   "outputs": [],
   "source": [
    "#aapl.set_index(['date'], inplace=True)\n",
    "#aapl.reset_index(inplace=True)"
   ]
  },
  {
   "cell_type": "code",
   "execution_count": 78,
   "metadata": {
    "collapsed": true,
    "jupyter": {
     "outputs_hidden": true
    }
   },
   "outputs": [
    {
     "name": "stdout",
     "output_type": "stream",
     "text": [
      "1078663           NaN\n",
      "1078664     47.140452\n",
      "1078665     73.289767\n",
      "1078666     90.481873\n",
      "1078667     68.107945\n",
      "1078668     65.914586\n",
      "1078669     50.435587\n",
      "1078670     35.395287\n",
      "1078671     58.160619\n",
      "1078672     45.344927\n",
      "1078673     59.197478\n",
      "1078674     88.562178\n",
      "1078675    114.208327\n",
      "1078676     68.074836\n",
      "1078677     57.963763\n",
      "1078678    124.275742\n",
      "1078679     89.450768\n",
      "1078680     97.349769\n",
      "1078681     84.068684\n",
      "1078682     94.763205\n",
      "1078683     93.723035\n",
      "1078684     60.070217\n",
      "1078685     15.218398\n",
      "1078686     18.488179\n",
      "1078687     31.414032\n",
      "1078688     35.219015\n",
      "1078689     40.427152\n",
      "1078690     33.589303\n",
      "1078691     14.960668\n",
      "1078692     26.210587\n",
      "              ...    \n",
      "1081079   -108.058577\n",
      "1081080   -124.299245\n",
      "1081081   -107.205860\n",
      "1081082   -145.491844\n",
      "1081083   -140.702073\n",
      "1081084   -113.183938\n",
      "1081085    -80.230995\n",
      "1081086    -84.242840\n",
      "1081087    -68.312488\n",
      "1081088    -55.960071\n",
      "1081089    -73.807921\n",
      "1081090    -78.761372\n",
      "1081091    -82.650641\n",
      "1081092    -80.297757\n",
      "1081093    -43.769262\n",
      "1081094    -28.108962\n",
      "1081095    -62.284330\n",
      "1081096    -63.313447\n",
      "1081097    -14.505437\n",
      "1081098    -17.659065\n",
      "1081099     26.503208\n",
      "1081100     92.957757\n",
      "1081101    126.023973\n",
      "1081102    156.764693\n",
      "1081103    180.216786\n",
      "1081104    156.989474\n",
      "1081105    128.435902\n",
      "1081106    127.063414\n",
      "1081107    114.822115\n",
      "1081108     99.519678\n",
      "Name: 30 period CCI, Length: 2446, dtype: float64\n"
     ]
    }
   ],
   "source": [
    "#for ticker in aapl.tic.unique():\n",
    "#print(TA.CCI(aapl[aapl['tic']=='ZION'], period=30))\n",
    "#    break"
   ]
  },
  {
   "cell_type": "code",
   "execution_count": 31,
   "metadata": {},
   "outputs": [],
   "source": [
    "#aapl_real = aapl[aapl.tic == 'AAPL']\n",
    "#a_real = aapl[aapl.tic == 'A']"
   ]
  },
  {
   "cell_type": "code",
   "execution_count": 56,
   "metadata": {},
   "outputs": [],
   "source": [
    "#aapl.set_index('tic', inplace=True)\n",
    "#aapl.reset_index(inplace=True)"
   ]
  },
  {
   "cell_type": "code",
   "execution_count": 32,
   "metadata": {},
   "outputs": [],
   "source": [
    "#aapl.set_index(['date'], inplace=True)"
   ]
  },
  {
   "cell_type": "code",
   "execution_count": 33,
   "metadata": {},
   "outputs": [],
   "source": [
    "#a_real.set_index('date', inplace=True)\n",
    "#aapl_real.set_index('date', inplace=True)"
   ]
  },
  {
   "cell_type": "code",
   "execution_count": 34,
   "metadata": {
    "collapsed": true,
    "jupyter": {
     "outputs_hidden": true
    }
   },
   "outputs": [
    {
     "name": "stderr",
     "output_type": "stream",
     "text": [
      "/Users/flatironschool/anaconda3/envs/learn-env/lib/python3.6/site-packages/ipykernel_launcher.py:1: SettingWithCopyWarning: \n",
      "A value is trying to be set on a copy of a slice from a DataFrame.\n",
      "Try using .loc[row_indexer,col_indexer] = value instead\n",
      "\n",
      "See the caveats in the documentation: http://pandas.pydata.org/pandas-docs/stable/indexing.html#indexing-view-versus-copy\n",
      "  \"\"\"Entry point for launching an IPython kernel.\n",
      "/Users/flatironschool/anaconda3/envs/learn-env/lib/python3.6/site-packages/ipykernel_launcher.py:2: SettingWithCopyWarning: \n",
      "A value is trying to be set on a copy of a slice from a DataFrame.\n",
      "Try using .loc[row_indexer,col_indexer] = value instead\n",
      "\n",
      "See the caveats in the documentation: http://pandas.pydata.org/pandas-docs/stable/indexing.html#indexing-view-versus-copy\n",
      "  \n"
     ]
    }
   ],
   "source": [
    "#aapl_real['cci_30'] = TA.CCI(aapl_real, period=30)\n",
    "#a_real['cci_30'] = TA.CCI(a_real, period=30)"
   ]
  },
  {
   "cell_type": "code",
   "execution_count": 41,
   "metadata": {},
   "outputs": [],
   "source": [
    "#cci_gb=aapl.groupby('tic').apply(lambda x: TA.CCI(x, period=30)).reset_index().set_index('date', 'tic')\n",
    "#macd=aapl.groupby('tic').apply(lambda x: TA.MACD(x, period_slow=15, period_fast=30)).reset_index().set_index('date', 'tic')"
   ]
  },
  {
   "cell_type": "code",
   "execution_count": null,
   "metadata": {},
   "outputs": [],
   "source": [
    "#aapl.reset_index().set_index(['date', 'tic'], inplace=True)\n",
    "#aapl = aapl.join([cci_gb, macd])"
   ]
  },
  {
   "cell_type": "code",
   "execution_count": 210,
   "metadata": {
    "collapsed": true,
    "jupyter": {
     "outputs_hidden": true
    }
   },
   "outputs": [
    {
     "ename": "AttributeError",
     "evalue": "'NoneType' object has no attribute 'groupby'",
     "output_type": "error",
     "traceback": [
      "\u001b[0;31m---------------------------------------------------------------------------\u001b[0m",
      "\u001b[0;31mAttributeError\u001b[0m                            Traceback (most recent call last)",
      "\u001b[0;32m<ipython-input-210-ef611b0d8f35>\u001b[0m in \u001b[0;36m<module>\u001b[0;34m()\u001b[0m\n\u001b[0;32m----> 1\u001b[0;31m \u001b[0mcci_gb\u001b[0m\u001b[0;34m=\u001b[0m\u001b[0maapl\u001b[0m\u001b[0;34m.\u001b[0m\u001b[0mgroupby\u001b[0m\u001b[0;34m(\u001b[0m\u001b[0;34m'tic'\u001b[0m\u001b[0;34m)\u001b[0m\u001b[0;34m.\u001b[0m\u001b[0mapply\u001b[0m\u001b[0;34m(\u001b[0m\u001b[0;32mlambda\u001b[0m \u001b[0mx\u001b[0m\u001b[0;34m:\u001b[0m \u001b[0mTA\u001b[0m\u001b[0;34m.\u001b[0m\u001b[0mCCI\u001b[0m\u001b[0;34m(\u001b[0m\u001b[0mx\u001b[0m\u001b[0;34m,\u001b[0m \u001b[0mperiod\u001b[0m\u001b[0;34m=\u001b[0m\u001b[0;36m30\u001b[0m\u001b[0;34m)\u001b[0m\u001b[0;34m)\u001b[0m\u001b[0;34m.\u001b[0m\u001b[0mreset_index\u001b[0m\u001b[0;34m(\u001b[0m\u001b[0;34m)\u001b[0m\u001b[0;34m.\u001b[0m\u001b[0mset_index\u001b[0m\u001b[0;34m(\u001b[0m\u001b[0;34m'date'\u001b[0m\u001b[0;34m,\u001b[0m \u001b[0;34m'tic'\u001b[0m\u001b[0;34m,\u001b[0m \u001b[0minplace\u001b[0m\u001b[0;34m=\u001b[0m\u001b[0;32mTrue\u001b[0m\u001b[0;34m)\u001b[0m\u001b[0;34m\u001b[0m\u001b[0m\n\u001b[0m",
      "\u001b[0;31mAttributeError\u001b[0m: 'NoneType' object has no attribute 'groupby'"
     ]
    }
   ],
   "source": [
    "#cci_gb=aapl.groupby('tic').apply(lambda x: TA.CCI(x, period=30)).reset_index().set_index('date', 'tic', inplace=True)"
   ]
  },
  {
   "cell_type": "code",
   "execution_count": 204,
   "metadata": {},
   "outputs": [],
   "source": [
    "#cci_gb.set_index('date', 'tic', inplace=True)"
   ]
  },
  {
   "cell_type": "code",
   "execution_count": 163,
   "metadata": {},
   "outputs": [],
   "source": [
    "#aapl['cci_30'] = TA.CCI(aapl, period=30)"
   ]
  },
  {
   "cell_type": "code",
   "execution_count": 189,
   "metadata": {},
   "outputs": [
    {
     "data": {
      "text/html": [
       "<div>\n",
       "<style scoped>\n",
       "    .dataframe tbody tr th:only-of-type {\n",
       "        vertical-align: middle;\n",
       "    }\n",
       "\n",
       "    .dataframe tbody tr th {\n",
       "        vertical-align: top;\n",
       "    }\n",
       "\n",
       "    .dataframe thead th {\n",
       "        text-align: right;\n",
       "    }\n",
       "</style>\n",
       "<table border=\"1\" class=\"dataframe\">\n",
       "  <thead>\n",
       "    <tr style=\"text-align: right;\">\n",
       "      <th></th>\n",
       "      <th>date</th>\n",
       "      <th>tic</th>\n",
       "      <th>volume</th>\n",
       "      <th>close</th>\n",
       "      <th>high</th>\n",
       "      <th>low</th>\n",
       "      <th>open</th>\n",
       "      <th>roi</th>\n",
       "      <th>roi_class</th>\n",
       "      <th>roi_tomorrow</th>\n",
       "      <th>cci_30</th>\n",
       "      <th>30 period CCI</th>\n",
       "    </tr>\n",
       "  </thead>\n",
       "  <tbody>\n",
       "    <tr>\n",
       "      <th>4896</th>\n",
       "      <td>2010-01-08</td>\n",
       "      <td>AAPL</td>\n",
       "      <td>15972090.0</td>\n",
       "      <td>211.98</td>\n",
       "      <td>212.0</td>\n",
       "      <td>209.06</td>\n",
       "      <td>210.3</td>\n",
       "      <td>0.798859</td>\n",
       "      <td>0</td>\n",
       "      <td>3.0</td>\n",
       "      <td>136.496794</td>\n",
       "      <td>-55.23632</td>\n",
       "    </tr>\n",
       "  </tbody>\n",
       "</table>\n",
       "</div>"
      ],
      "text/plain": [
       "           date   tic      volume   close   high     low   open       roi  \\\n",
       "4896 2010-01-08  AAPL  15972090.0  211.98  212.0  209.06  210.3  0.798859   \n",
       "\n",
       "      roi_class  roi_tomorrow      cci_30  30 period CCI  \n",
       "4896          0           3.0  136.496794      -55.23632  "
      ]
     },
     "execution_count": 189,
     "metadata": {},
     "output_type": "execute_result"
    }
   ],
   "source": [
    "#aapl.loc[(aapl.date=='2010-01-08') & (aapl.tic =='AAPL')]"
   ]
  },
  {
   "cell_type": "code",
   "execution_count": 34,
   "metadata": {},
   "outputs": [],
   "source": [
    "macd = TA.MACD(aapl, period_slow=15, period_fast=30)"
   ]
  },
  {
   "cell_type": "code",
   "execution_count": 35,
   "metadata": {},
   "outputs": [],
   "source": [
    "aapl = pd.concat([aapl, macd], axis=1)"
   ]
  },
  {
   "cell_type": "code",
   "execution_count": 36,
   "metadata": {},
   "outputs": [],
   "source": [
    "aapl['rsi_14'] = TA.RSI(aapl, 14)"
   ]
  },
  {
   "cell_type": "code",
   "execution_count": null,
   "metadata": {},
   "outputs": [],
   "source": []
  },
  {
   "cell_type": "code",
   "execution_count": 38,
   "metadata": {},
   "outputs": [],
   "source": [
    "final.dropna(inplace=True)"
   ]
  },
  {
   "cell_type": "code",
   "execution_count": 39,
   "metadata": {},
   "outputs": [],
   "source": [
    "final = final['2010-02-01':]"
   ]
  },
  {
   "cell_type": "code",
   "execution_count": 40,
   "metadata": {},
   "outputs": [
    {
     "data": {
      "text/html": [
       "<div>\n",
       "<style scoped>\n",
       "    .dataframe tbody tr th:only-of-type {\n",
       "        vertical-align: middle;\n",
       "    }\n",
       "\n",
       "    .dataframe tbody tr th {\n",
       "        vertical-align: top;\n",
       "    }\n",
       "\n",
       "    .dataframe thead th {\n",
       "        text-align: right;\n",
       "    }\n",
       "</style>\n",
       "<table border=\"1\" class=\"dataframe\">\n",
       "  <thead>\n",
       "    <tr style=\"text-align: right;\">\n",
       "      <th></th>\n",
       "      <th>tic</th>\n",
       "      <th>volume</th>\n",
       "      <th>close</th>\n",
       "      <th>high</th>\n",
       "      <th>low</th>\n",
       "      <th>open</th>\n",
       "      <th>roi</th>\n",
       "      <th>roi_class</th>\n",
       "      <th>roi_tomorrow</th>\n",
       "      <th>20 period CCI</th>\n",
       "      <th>MACD</th>\n",
       "      <th>SIGNAL</th>\n",
       "      <th>RSI</th>\n",
       "    </tr>\n",
       "    <tr>\n",
       "      <th>date</th>\n",
       "      <th></th>\n",
       "      <th></th>\n",
       "      <th></th>\n",
       "      <th></th>\n",
       "      <th></th>\n",
       "      <th></th>\n",
       "      <th></th>\n",
       "      <th></th>\n",
       "      <th></th>\n",
       "      <th></th>\n",
       "      <th></th>\n",
       "      <th></th>\n",
       "      <th></th>\n",
       "    </tr>\n",
       "  </thead>\n",
       "  <tbody>\n",
       "    <tr>\n",
       "      <th>2010-02-01</th>\n",
       "      <td>A</td>\n",
       "      <td>3993209.0</td>\n",
       "      <td>29.13</td>\n",
       "      <td>29.32</td>\n",
       "      <td>28.13</td>\n",
       "      <td>28.16</td>\n",
       "      <td>3.444602</td>\n",
       "      <td>4</td>\n",
       "      <td>2.0</td>\n",
       "      <td>-97.975511</td>\n",
       "      <td>-0.371707</td>\n",
       "      <td>-0.243427</td>\n",
       "      <td>42.071131</td>\n",
       "    </tr>\n",
       "    <tr>\n",
       "      <th>2010-02-02</th>\n",
       "      <td>A</td>\n",
       "      <td>4209397.0</td>\n",
       "      <td>29.50</td>\n",
       "      <td>29.59</td>\n",
       "      <td>29.09</td>\n",
       "      <td>29.22</td>\n",
       "      <td>0.958248</td>\n",
       "      <td>2</td>\n",
       "      <td>0.0</td>\n",
       "      <td>-52.239127</td>\n",
       "      <td>-0.332231</td>\n",
       "      <td>-0.261353</td>\n",
       "      <td>48.340215</td>\n",
       "    </tr>\n",
       "    <tr>\n",
       "      <th>2010-02-03</th>\n",
       "      <td>A</td>\n",
       "      <td>4353100.0</td>\n",
       "      <td>29.54</td>\n",
       "      <td>29.89</td>\n",
       "      <td>29.36</td>\n",
       "      <td>29.39</td>\n",
       "      <td>0.510378</td>\n",
       "      <td>0</td>\n",
       "      <td>1.0</td>\n",
       "      <td>-31.795150</td>\n",
       "      <td>-0.295026</td>\n",
       "      <td>-0.268137</td>\n",
       "      <td>49.028304</td>\n",
       "    </tr>\n",
       "    <tr>\n",
       "      <th>2010-02-04</th>\n",
       "      <td>A</td>\n",
       "      <td>4744169.0</td>\n",
       "      <td>29.07</td>\n",
       "      <td>29.45</td>\n",
       "      <td>28.94</td>\n",
       "      <td>29.30</td>\n",
       "      <td>-0.784983</td>\n",
       "      <td>1</td>\n",
       "      <td>2.0</td>\n",
       "      <td>-60.968184</td>\n",
       "      <td>-0.294605</td>\n",
       "      <td>-0.273462</td>\n",
       "      <td>41.528882</td>\n",
       "    </tr>\n",
       "    <tr>\n",
       "      <th>2010-02-05</th>\n",
       "      <td>A</td>\n",
       "      <td>6828734.0</td>\n",
       "      <td>29.17</td>\n",
       "      <td>29.26</td>\n",
       "      <td>28.18</td>\n",
       "      <td>28.91</td>\n",
       "      <td>0.899343</td>\n",
       "      <td>2</td>\n",
       "      <td>0.0</td>\n",
       "      <td>-75.678973</td>\n",
       "      <td>-0.283926</td>\n",
       "      <td>-0.275565</td>\n",
       "      <td>43.645111</td>\n",
       "    </tr>\n",
       "  </tbody>\n",
       "</table>\n",
       "</div>"
      ],
      "text/plain": [
       "           tic     volume  close   high    low   open       roi  roi_class  \\\n",
       "date                                                                         \n",
       "2010-02-01   A  3993209.0  29.13  29.32  28.13  28.16  3.444602          4   \n",
       "2010-02-02   A  4209397.0  29.50  29.59  29.09  29.22  0.958248          2   \n",
       "2010-02-03   A  4353100.0  29.54  29.89  29.36  29.39  0.510378          0   \n",
       "2010-02-04   A  4744169.0  29.07  29.45  28.94  29.30 -0.784983          1   \n",
       "2010-02-05   A  6828734.0  29.17  29.26  28.18  28.91  0.899343          2   \n",
       "\n",
       "            roi_tomorrow  20 period CCI      MACD    SIGNAL        RSI  \n",
       "date                                                                    \n",
       "2010-02-01           2.0     -97.975511 -0.371707 -0.243427  42.071131  \n",
       "2010-02-02           0.0     -52.239127 -0.332231 -0.261353  48.340215  \n",
       "2010-02-03           1.0     -31.795150 -0.295026 -0.268137  49.028304  \n",
       "2010-02-04           2.0     -60.968184 -0.294605 -0.273462  41.528882  \n",
       "2010-02-05           0.0     -75.678973 -0.283926 -0.275565  43.645111  "
      ]
     },
     "execution_count": 40,
     "metadata": {},
     "output_type": "execute_result"
    }
   ],
   "source": [
    "final.head()"
   ]
  },
  {
   "cell_type": "code",
   "execution_count": null,
   "metadata": {},
   "outputs": [],
   "source": []
  },
  {
   "cell_type": "code",
   "execution_count": 53,
   "metadata": {},
   "outputs": [
    {
     "data": {
      "text/html": [
       "<div>\n",
       "<style scoped>\n",
       "    .dataframe tbody tr th:only-of-type {\n",
       "        vertical-align: middle;\n",
       "    }\n",
       "\n",
       "    .dataframe tbody tr th {\n",
       "        vertical-align: top;\n",
       "    }\n",
       "\n",
       "    .dataframe thead th {\n",
       "        text-align: right;\n",
       "    }\n",
       "</style>\n",
       "<table border=\"1\" class=\"dataframe\">\n",
       "  <thead>\n",
       "    <tr style=\"text-align: right;\">\n",
       "      <th></th>\n",
       "      <th>close</th>\n",
       "      <th>high</th>\n",
       "      <th>low</th>\n",
       "      <th>open</th>\n",
       "      <th>30 period CCI_30</th>\n",
       "      <th>21 period CCI_21</th>\n",
       "      <th>14 period CCI_14</th>\n",
       "      <th>MACD</th>\n",
       "      <th>SIGNAL</th>\n",
       "      <th>RSI_30</th>\n",
       "      <th>RSI_21</th>\n",
       "      <th>RSI_14</th>\n",
       "      <th>MFV_</th>\n",
       "      <th>volume</th>\n",
       "      <th>nextwk_roi</th>\n",
       "    </tr>\n",
       "    <tr>\n",
       "      <th>roi_class</th>\n",
       "      <th></th>\n",
       "      <th></th>\n",
       "      <th></th>\n",
       "      <th></th>\n",
       "      <th></th>\n",
       "      <th></th>\n",
       "      <th></th>\n",
       "      <th></th>\n",
       "      <th></th>\n",
       "      <th></th>\n",
       "      <th></th>\n",
       "      <th></th>\n",
       "      <th></th>\n",
       "      <th></th>\n",
       "      <th></th>\n",
       "    </tr>\n",
       "  </thead>\n",
       "  <tbody>\n",
       "    <tr>\n",
       "      <th>gain</th>\n",
       "      <td>79.809178</td>\n",
       "      <td>80.598949</td>\n",
       "      <td>78.648087</td>\n",
       "      <td>79.487640</td>\n",
       "      <td>68.378188</td>\n",
       "      <td>66.701852</td>\n",
       "      <td>60.337200</td>\n",
       "      <td>0.884385</td>\n",
       "      <td>0.611089</td>\n",
       "      <td>59.341051</td>\n",
       "      <td>61.278587</td>\n",
       "      <td>63.358957</td>\n",
       "      <td>2.587971e+08</td>\n",
       "      <td>1.108418e+08</td>\n",
       "      <td>10.939641</td>\n",
       "    </tr>\n",
       "    <tr>\n",
       "      <th>loss</th>\n",
       "      <td>81.497597</td>\n",
       "      <td>82.579935</td>\n",
       "      <td>80.675347</td>\n",
       "      <td>81.817039</td>\n",
       "      <td>-52.690114</td>\n",
       "      <td>-51.651437</td>\n",
       "      <td>-45.311968</td>\n",
       "      <td>-0.675245</td>\n",
       "      <td>-0.415986</td>\n",
       "      <td>43.567318</td>\n",
       "      <td>42.085594</td>\n",
       "      <td>40.584161</td>\n",
       "      <td>2.397247e+08</td>\n",
       "      <td>1.242840e+08</td>\n",
       "      <td>-9.417667</td>\n",
       "    </tr>\n",
       "    <tr>\n",
       "      <th>neutral</th>\n",
       "      <td>82.570069</td>\n",
       "      <td>83.370082</td>\n",
       "      <td>81.716250</td>\n",
       "      <td>82.590068</td>\n",
       "      <td>21.199046</td>\n",
       "      <td>17.888073</td>\n",
       "      <td>14.036252</td>\n",
       "      <td>0.329194</td>\n",
       "      <td>0.329664</td>\n",
       "      <td>53.324032</td>\n",
       "      <td>53.401526</td>\n",
       "      <td>53.451937</td>\n",
       "      <td>7.670848e+07</td>\n",
       "      <td>8.750169e+07</td>\n",
       "      <td>1.117474</td>\n",
       "    </tr>\n",
       "  </tbody>\n",
       "</table>\n",
       "</div>"
      ],
      "text/plain": [
       "               close       high        low       open  30 period CCI_30  \\\n",
       "roi_class                                                                 \n",
       "gain       79.809178  80.598949  78.648087  79.487640         68.378188   \n",
       "loss       81.497597  82.579935  80.675347  81.817039        -52.690114   \n",
       "neutral    82.570069  83.370082  81.716250  82.590068         21.199046   \n",
       "\n",
       "           21 period CCI_21  14 period CCI_14      MACD    SIGNAL     RSI_30  \\\n",
       "roi_class                                                                      \n",
       "gain              66.701852         60.337200  0.884385  0.611089  59.341051   \n",
       "loss             -51.651437        -45.311968 -0.675245 -0.415986  43.567318   \n",
       "neutral           17.888073         14.036252  0.329194  0.329664  53.324032   \n",
       "\n",
       "              RSI_21     RSI_14          MFV_        volume  nextwk_roi  \n",
       "roi_class                                                                \n",
       "gain       61.278587  63.358957  2.587971e+08  1.108418e+08   10.939641  \n",
       "loss       42.085594  40.584161  2.397247e+08  1.242840e+08   -9.417667  \n",
       "neutral    53.401526  53.451937  7.670848e+07  8.750169e+07    1.117474  "
      ]
     },
     "execution_count": 53,
     "metadata": {},
     "output_type": "execute_result"
    }
   ],
   "source": [
    "aapl_all.groupby('roi_class').mean()"
   ]
  },
  {
   "cell_type": "code",
   "execution_count": 51,
   "metadata": {},
   "outputs": [],
   "source": [
    "aapl_all.loc[aapl_all.roi_class == 0, 'roi_class'] = 'loss'"
   ]
  },
  {
   "cell_type": "code",
   "execution_count": 52,
   "metadata": {},
   "outputs": [],
   "source": [
    "aapl_all.loc[aapl_all.roi_class == 1, 'roi_class'] = 'neutral'\n",
    "aapl_all.loc[aapl_all.roi_class == 2, 'roi_class'] = 'gain'"
   ]
  },
  {
   "cell_type": "code",
   "execution_count": 54,
   "metadata": {},
   "outputs": [
    {
     "data": {
      "text/html": [
       "<div>\n",
       "<style scoped>\n",
       "    .dataframe tbody tr th:only-of-type {\n",
       "        vertical-align: middle;\n",
       "    }\n",
       "\n",
       "    .dataframe tbody tr th {\n",
       "        vertical-align: top;\n",
       "    }\n",
       "\n",
       "    .dataframe thead th {\n",
       "        text-align: right;\n",
       "    }\n",
       "</style>\n",
       "<table border=\"1\" class=\"dataframe\">\n",
       "  <thead>\n",
       "    <tr style=\"text-align: right;\">\n",
       "      <th></th>\n",
       "      <th></th>\n",
       "      <th>tic</th>\n",
       "      <th>close</th>\n",
       "      <th>high</th>\n",
       "      <th>low</th>\n",
       "      <th>open</th>\n",
       "      <th>30 period CCI_30</th>\n",
       "      <th>21 period CCI_21</th>\n",
       "      <th>14 period CCI_14</th>\n",
       "      <th>MACD</th>\n",
       "      <th>SIGNAL</th>\n",
       "      <th>RSI_30</th>\n",
       "      <th>RSI_21</th>\n",
       "      <th>RSI_14</th>\n",
       "      <th>MFV_</th>\n",
       "      <th>volume</th>\n",
       "      <th>nextwk_roi</th>\n",
       "      <th>roi_class</th>\n",
       "    </tr>\n",
       "    <tr>\n",
       "      <th>tic</th>\n",
       "      <th>date</th>\n",
       "      <th></th>\n",
       "      <th></th>\n",
       "      <th></th>\n",
       "      <th></th>\n",
       "      <th></th>\n",
       "      <th></th>\n",
       "      <th></th>\n",
       "      <th></th>\n",
       "      <th></th>\n",
       "      <th></th>\n",
       "      <th></th>\n",
       "      <th></th>\n",
       "      <th></th>\n",
       "      <th></th>\n",
       "      <th></th>\n",
       "      <th></th>\n",
       "      <th></th>\n",
       "    </tr>\n",
       "  </thead>\n",
       "  <tbody>\n",
       "    <tr>\n",
       "      <th rowspan=\"5\" valign=\"top\">A</th>\n",
       "      <th>2010-01-31</th>\n",
       "      <td>A</td>\n",
       "      <td>31.30</td>\n",
       "      <td>31.63</td>\n",
       "      <td>31.1314</td>\n",
       "      <td>31.39</td>\n",
       "      <td>-79.431503</td>\n",
       "      <td>-79.431503</td>\n",
       "      <td>-76.739788</td>\n",
       "      <td>-0.090456</td>\n",
       "      <td>-0.049555</td>\n",
       "      <td>21.977887</td>\n",
       "      <td>22.167983</td>\n",
       "      <td>22.354790</td>\n",
       "      <td>-3.921754e+06</td>\n",
       "      <td>57195750.0</td>\n",
       "      <td>-7.199745</td>\n",
       "      <td>loss</td>\n",
       "    </tr>\n",
       "    <tr>\n",
       "      <th>2010-02-28</th>\n",
       "      <td>A</td>\n",
       "      <td>29.13</td>\n",
       "      <td>29.32</td>\n",
       "      <td>28.1300</td>\n",
       "      <td>28.16</td>\n",
       "      <td>8.530224</td>\n",
       "      <td>27.906036</td>\n",
       "      <td>47.853030</td>\n",
       "      <td>-0.046036</td>\n",
       "      <td>-0.133512</td>\n",
       "      <td>50.976560</td>\n",
       "      <td>54.266663</td>\n",
       "      <td>58.994975</td>\n",
       "      <td>-8.045354e+06</td>\n",
       "      <td>77437416.0</td>\n",
       "      <td>13.955966</td>\n",
       "      <td>gain</td>\n",
       "    </tr>\n",
       "    <tr>\n",
       "      <th>2010-03-31</th>\n",
       "      <td>A</td>\n",
       "      <td>32.09</td>\n",
       "      <td>32.13</td>\n",
       "      <td>31.4300</td>\n",
       "      <td>31.43</td>\n",
       "      <td>106.482094</td>\n",
       "      <td>97.117092</td>\n",
       "      <td>95.002380</td>\n",
       "      <td>0.746314</td>\n",
       "      <td>0.647381</td>\n",
       "      <td>71.249902</td>\n",
       "      <td>74.119115</td>\n",
       "      <td>75.979051</td>\n",
       "      <td>-4.642447e+05</td>\n",
       "      <td>85940921.0</td>\n",
       "      <td>9.926822</td>\n",
       "      <td>gain</td>\n",
       "    </tr>\n",
       "    <tr>\n",
       "      <th>2010-04-30</th>\n",
       "      <td>A</td>\n",
       "      <td>34.55</td>\n",
       "      <td>34.87</td>\n",
       "      <td>34.2500</td>\n",
       "      <td>34.54</td>\n",
       "      <td>103.617392</td>\n",
       "      <td>91.900319</td>\n",
       "      <td>62.078502</td>\n",
       "      <td>0.672877</td>\n",
       "      <td>0.671609</td>\n",
       "      <td>65.896845</td>\n",
       "      <td>65.189972</td>\n",
       "      <td>63.838722</td>\n",
       "      <td>-1.526734e+06</td>\n",
       "      <td>76014979.0</td>\n",
       "      <td>6.456283</td>\n",
       "      <td>gain</td>\n",
       "    </tr>\n",
       "    <tr>\n",
       "      <th>2010-05-31</th>\n",
       "      <td>A</td>\n",
       "      <td>36.77</td>\n",
       "      <td>36.89</td>\n",
       "      <td>36.3700</td>\n",
       "      <td>36.50</td>\n",
       "      <td>-73.001477</td>\n",
       "      <td>-70.195572</td>\n",
       "      <td>-70.460715</td>\n",
       "      <td>-0.265806</td>\n",
       "      <td>0.031018</td>\n",
       "      <td>43.897317</td>\n",
       "      <td>41.582252</td>\n",
       "      <td>39.448990</td>\n",
       "      <td>1.081992e+07</td>\n",
       "      <td>89202413.0</td>\n",
       "      <td>-13.753425</td>\n",
       "      <td>loss</td>\n",
       "    </tr>\n",
       "  </tbody>\n",
       "</table>\n",
       "</div>"
      ],
      "text/plain": [
       "               tic  close   high      low   open  30 period CCI_30  \\\n",
       "tic date                                                             \n",
       "A   2010-01-31   A  31.30  31.63  31.1314  31.39        -79.431503   \n",
       "    2010-02-28   A  29.13  29.32  28.1300  28.16          8.530224   \n",
       "    2010-03-31   A  32.09  32.13  31.4300  31.43        106.482094   \n",
       "    2010-04-30   A  34.55  34.87  34.2500  34.54        103.617392   \n",
       "    2010-05-31   A  36.77  36.89  36.3700  36.50        -73.001477   \n",
       "\n",
       "                21 period CCI_21  14 period CCI_14      MACD    SIGNAL  \\\n",
       "tic date                                                                 \n",
       "A   2010-01-31        -79.431503        -76.739788 -0.090456 -0.049555   \n",
       "    2010-02-28         27.906036         47.853030 -0.046036 -0.133512   \n",
       "    2010-03-31         97.117092         95.002380  0.746314  0.647381   \n",
       "    2010-04-30         91.900319         62.078502  0.672877  0.671609   \n",
       "    2010-05-31        -70.195572        -70.460715 -0.265806  0.031018   \n",
       "\n",
       "                   RSI_30     RSI_21     RSI_14          MFV_      volume  \\\n",
       "tic date                                                                    \n",
       "A   2010-01-31  21.977887  22.167983  22.354790 -3.921754e+06  57195750.0   \n",
       "    2010-02-28  50.976560  54.266663  58.994975 -8.045354e+06  77437416.0   \n",
       "    2010-03-31  71.249902  74.119115  75.979051 -4.642447e+05  85940921.0   \n",
       "    2010-04-30  65.896845  65.189972  63.838722 -1.526734e+06  76014979.0   \n",
       "    2010-05-31  43.897317  41.582252  39.448990  1.081992e+07  89202413.0   \n",
       "\n",
       "                nextwk_roi roi_class  \n",
       "tic date                              \n",
       "A   2010-01-31   -7.199745      loss  \n",
       "    2010-02-28   13.955966      gain  \n",
       "    2010-03-31    9.926822      gain  \n",
       "    2010-04-30    6.456283      gain  \n",
       "    2010-05-31  -13.753425      loss  "
      ]
     },
     "execution_count": 54,
     "metadata": {},
     "output_type": "execute_result"
    }
   ],
   "source": [
    "aapl_all.head()"
   ]
  },
  {
   "cell_type": "code",
   "execution_count": 55,
   "metadata": {},
   "outputs": [
    {
     "data": {
      "text/plain": [
       "Index(['tic', 'close', 'high', 'low', 'open', '30 period CCI_30',\n",
       "       '21 period CCI_21', '14 period CCI_14', 'MACD', 'SIGNAL', 'RSI_30',\n",
       "       'RSI_21', 'RSI_14', 'MFV_', 'volume', 'nextwk_roi', 'roi_class'],\n",
       "      dtype='object')"
      ]
     },
     "execution_count": 55,
     "metadata": {},
     "output_type": "execute_result"
    }
   ],
   "source": [
    "aapl_all.columns"
   ]
  },
  {
   "cell_type": "code",
   "execution_count": 56,
   "metadata": {},
   "outputs": [],
   "source": [
    "X = aapl_all.loc[:, '30 period CCI_30':'MFV_']"
   ]
  },
  {
   "cell_type": "code",
   "execution_count": 57,
   "metadata": {},
   "outputs": [],
   "source": [
    "poly = PolynomialFeatures(degree=3)\n",
    "Xp = poly.fit_transform(X)"
   ]
  },
  {
   "cell_type": "code",
   "execution_count": 58,
   "metadata": {},
   "outputs": [],
   "source": [
    "y = aapl_all.roi_class"
   ]
  },
  {
   "cell_type": "code",
   "execution_count": 59,
   "metadata": {},
   "outputs": [],
   "source": [
    "X_train, X_test, y_train, y_test = train_test_split(Xp, y, test_size = 0.2)"
   ]
  },
  {
   "cell_type": "code",
   "execution_count": 60,
   "metadata": {},
   "outputs": [],
   "source": [
    "sd = StandardScaler()\n",
    "X_train = sd.fit_transform(X_train)\n",
    "X_test = sd.fit_transform(X_test)"
   ]
  },
  {
   "cell_type": "code",
   "execution_count": 61,
   "metadata": {},
   "outputs": [
    {
     "data": {
      "text/plain": [
       "(40955, 220)"
      ]
     },
     "execution_count": 61,
     "metadata": {},
     "output_type": "execute_result"
    }
   ],
   "source": [
    "X_train.shape"
   ]
  },
  {
   "cell_type": "code",
   "execution_count": 62,
   "metadata": {},
   "outputs": [
    {
     "name": "stderr",
     "output_type": "stream",
     "text": [
      "/Users/flatironschool/anaconda3/envs/learn-env/lib/python3.6/site-packages/sklearn/linear_model/logistic.py:469: FutureWarning: Default multi_class will be changed to 'auto' in 0.22. Specify the multi_class option to silence this warning.\n",
      "  \"this warning.\", FutureWarning)\n"
     ]
    }
   ],
   "source": [
    "clf = LogisticRegression(n_jobs=-1, solver='lbfgs').fit(X_train, y_train)"
   ]
  },
  {
   "cell_type": "code",
   "execution_count": 63,
   "metadata": {},
   "outputs": [
    {
     "data": {
      "text/plain": [
       "0.7400073251129288"
      ]
     },
     "execution_count": 63,
     "metadata": {},
     "output_type": "execute_result"
    }
   ],
   "source": [
    "clf.score(X_train, y_train)"
   ]
  },
  {
   "cell_type": "code",
   "execution_count": 64,
   "metadata": {},
   "outputs": [
    {
     "data": {
      "text/plain": [
       "0.7402090047856236"
      ]
     },
     "execution_count": 64,
     "metadata": {},
     "output_type": "execute_result"
    }
   ],
   "source": [
    "clf.score(X_test, y_test)"
   ]
  },
  {
   "cell_type": "code",
   "execution_count": 65,
   "metadata": {},
   "outputs": [],
   "source": [
    "y_pred = clf.predict(X_test)"
   ]
  },
  {
   "cell_type": "code",
   "execution_count": 66,
   "metadata": {},
   "outputs": [
    {
     "data": {
      "text/plain": [
       "array([[1335,    7,  944],\n",
       "       [   5, 1369,  848],\n",
       "       [ 517,  339, 4875]])"
      ]
     },
     "execution_count": 66,
     "metadata": {},
     "output_type": "execute_result"
    }
   ],
   "source": [
    "confusion_matrix(y_test, y_pred)"
   ]
  },
  {
   "cell_type": "code",
   "execution_count": 67,
   "metadata": {},
   "outputs": [
    {
     "data": {
      "image/png": "[encoded data removed]",
      "text/plain": [
       "<Figure size 432x288 with 1 Axes>"
      ]
     },
     "metadata": {
      "needs_background": "light"
     },
     "output_type": "display_data"
    }
   ],
   "source": [
    "cm = ConfusionMatrix(clf, classes=['neutral', 'loss', 'gain'])\n",
    "cm.fit(X_train, y_train)\n",
    "cm.score(X_test, y_test)\n",
    "cm.poof();"
   ]
  },
  {
   "cell_type": "code",
   "execution_count": 68,
   "metadata": {},
   "outputs": [],
   "source": [
    "aapl_all.to_pickle('clean_data/sandp_ta.plk')"
   ]
  },
  {
   "cell_type": "markdown",
   "metadata": {},
   "source": [
    "### Random Forest "
   ]
  },
  {
   "cell_type": "code",
   "execution_count": 619,
   "metadata": {},
   "outputs": [],
   "source": [
    "poly = PolynomialFeatures(degree=2)\n",
    "Xp = poly.fit_transform(X)"
   ]
  },
  {
   "cell_type": "code",
   "execution_count": 620,
   "metadata": {},
   "outputs": [],
   "source": [
    "rfc = RandomForestClassifier(n_estimators=100, max_features= 'auto', max_depth=7,  oob_score=True)"
   ]
  },
  {
   "cell_type": "code",
   "execution_count": 622,
   "metadata": {},
   "outputs": [
    {
     "name": "stderr",
     "output_type": "stream",
     "text": [
      "/Users/flatironschool/anaconda3/envs/learn-env/lib/python3.6/site-packages/sklearn/model_selection/_split.py:1978: FutureWarning: The default value of cv will change from 3 to 5 in version 0.22. Specify it explicitly to silence this warning.\n",
      "  warnings.warn(CV_WARNING, FutureWarning)\n"
     ]
    }
   ],
   "source": [
    "cv = cross_validate(rfc, Xp, y,return_estimator= True, cv=None, n_jobs=-1)"
   ]
  },
  {
   "cell_type": "code",
   "execution_count": 623,
   "metadata": {},
   "outputs": [
    {
     "data": {
      "text/plain": [
       "array([0.65612044, 0.65468475, 0.65689866])"
      ]
     },
     "execution_count": 623,
     "metadata": {},
     "output_type": "execute_result"
    }
   ],
   "source": [
    "cv['test_score']"
   ]
  },
  {
   "cell_type": "code",
   "execution_count": 624,
   "metadata": {},
   "outputs": [],
   "source": [
    "est_list = [est for est in cv['estimator']]"
   ]
  },
  {
   "cell_type": "code",
   "execution_count": 625,
   "metadata": {},
   "outputs": [
    {
     "data": {
      "text/plain": [
       "[0.655362342175529, 0.6576768774570972, 0.6558722108172658]"
      ]
     },
     "execution_count": 625,
     "metadata": {},
     "output_type": "execute_result"
    }
   ],
   "source": [
    "[est.oob_score_ for est in est_list]"
   ]
  },
  {
   "cell_type": "markdown",
   "metadata": {},
   "source": [
    "### SVC"
   ]
  },
  {
   "cell_type": "code",
   "execution_count": 626,
   "metadata": {},
   "outputs": [],
   "source": [
    "from sklearn.svm import SVC"
   ]
  },
  {
   "cell_type": "code",
   "execution_count": 627,
   "metadata": {},
   "outputs": [],
   "source": [
    "X_train, X_test, y_train, y_test = train_test_split(X, y, test_size = 0.2)"
   ]
  },
  {
   "cell_type": "code",
   "execution_count": null,
   "metadata": {},
   "outputs": [
    {
     "name": "stderr",
     "output_type": "stream",
     "text": [
      "/Users/flatironschool/anaconda3/envs/learn-env/lib/python3.6/site-packages/sklearn/svm/base.py:193: FutureWarning: The default value of gamma will change from 'auto' to 'scale' in version 0.22 to account better for unscaled features. Set gamma explicitly to 'auto' or 'scale' to avoid this warning.\n",
      "  \"avoid this warning.\", FutureWarning)\n"
     ]
    }
   ],
   "source": [
    "svclassifier = SVC(kernel='rbf')\n",
    "svclassifier.fit(X_train, y_train)"
   ]
  },
  {
   "cell_type": "code",
   "execution_count": null,
   "metadata": {},
   "outputs": [],
   "source": []
  },
  {
   "cell_type": "code",
   "execution_count": null,
   "metadata": {},
   "outputs": [],
   "source": []
  },
  {
   "cell_type": "code",
   "execution_count": null,
   "metadata": {},
   "outputs": [],
   "source": []
  },
  {
   "cell_type": "code",
   "execution_count": null,
   "metadata": {},
   "outputs": [],
   "source": []
  },
  {
   "cell_type": "code",
   "execution_count": null,
   "metadata": {},
   "outputs": [],
   "source": []
  },
  {
   "cell_type": "code",
   "execution_count": 372,
   "metadata": {},
   "outputs": [],
   "source": [
    "X = sandp.roi.values.reshape(-1, 1)"
   ]
  },
  {
   "cell_type": "code",
   "execution_count": 373,
   "metadata": {},
   "outputs": [],
   "source": [
    "sil_scores = {}\n",
    "for i in range(2, 20):\n",
    "    k_means = KMeans(n_clusters=i)\n",
    "    k_means.fit(X)\n",
    "    y_hat = k_means.predict(X)\n",
    "    labels = k_means.labels_\n",
    "    silhouette = silhouette_score(X, labels)\n",
    "    sil_scores[i] = silhouette"
   ]
  },
  {
   "cell_type": "code",
   "execution_count": 374,
   "metadata": {},
   "outputs": [
    {
     "data": {
      "text/plain": [
       "[(3, 0.5672729226191421), (17, 0.5385505156853061), (16, 0.5357662401200405)]"
      ]
     },
     "execution_count": 374,
     "metadata": {},
     "output_type": "execute_result"
    }
   ],
   "source": [
    "sorted(sil_scores.items(), key=lambda x: x[1], reverse=True)[:3]"
   ]
  },
  {
   "cell_type": "code",
   "execution_count": 192,
   "metadata": {},
   "outputs": [],
   "source": [
    "k_means = KMeans(n_clusters=3)\n",
    "k_means.fit(X)\n",
    "y_hat = k_means.predict(X)\n",
    "labels = k_means.labels_"
   ]
  },
  {
   "cell_type": "code",
   "execution_count": 194,
   "metadata": {},
   "outputs": [],
   "source": [
    "sandp['roi_class'] = labels"
   ]
  },
  {
   "cell_type": "code",
   "execution_count": 196,
   "metadata": {},
   "outputs": [
    {
     "data": {
      "text/html": [
       "<div>\n",
       "<style scoped>\n",
       "    .dataframe tbody tr th:only-of-type {\n",
       "        vertical-align: middle;\n",
       "    }\n",
       "\n",
       "    .dataframe tbody tr th {\n",
       "        vertical-align: top;\n",
       "    }\n",
       "\n",
       "    .dataframe thead th {\n",
       "        text-align: right;\n",
       "    }\n",
       "</style>\n",
       "<table border=\"1\" class=\"dataframe\">\n",
       "  <thead>\n",
       "    <tr style=\"text-align: right;\">\n",
       "      <th></th>\n",
       "      <th>open</th>\n",
       "      <th>high</th>\n",
       "      <th>low</th>\n",
       "      <th>close</th>\n",
       "      <th>adj_close</th>\n",
       "      <th>volume</th>\n",
       "      <th>roi</th>\n",
       "    </tr>\n",
       "    <tr>\n",
       "      <th>roi_class</th>\n",
       "      <th></th>\n",
       "      <th></th>\n",
       "      <th></th>\n",
       "      <th></th>\n",
       "      <th></th>\n",
       "      <th></th>\n",
       "      <th></th>\n",
       "    </tr>\n",
       "  </thead>\n",
       "  <tbody>\n",
       "    <tr>\n",
       "      <th>0</th>\n",
       "      <td>1997.545528</td>\n",
       "      <td>2004.178918</td>\n",
       "      <td>1989.908481</td>\n",
       "      <td>1997.690351</td>\n",
       "      <td>1997.690351</td>\n",
       "      <td>3.565922e+09</td>\n",
       "      <td>0.006699</td>\n",
       "    </tr>\n",
       "    <tr>\n",
       "      <th>1</th>\n",
       "      <td>1804.376123</td>\n",
       "      <td>1807.631245</td>\n",
       "      <td>1772.956191</td>\n",
       "      <td>1778.496059</td>\n",
       "      <td>1778.496059</td>\n",
       "      <td>4.256878e+09</td>\n",
       "      <td>-1.465127</td>\n",
       "    </tr>\n",
       "    <tr>\n",
       "      <th>2</th>\n",
       "      <td>1771.293355</td>\n",
       "      <td>1794.015278</td>\n",
       "      <td>1768.001967</td>\n",
       "      <td>1791.420355</td>\n",
       "      <td>1791.420355</td>\n",
       "      <td>3.924541e+09</td>\n",
       "      <td>1.177166</td>\n",
       "    </tr>\n",
       "  </tbody>\n",
       "</table>\n",
       "</div>"
      ],
      "text/plain": [
       "                  open         high          low        close    adj_close  \\\n",
       "roi_class                                                                    \n",
       "0          1997.545528  2004.178918  1989.908481  1997.690351  1997.690351   \n",
       "1          1804.376123  1807.631245  1772.956191  1778.496059  1778.496059   \n",
       "2          1771.293355  1794.015278  1768.001967  1791.420355  1791.420355   \n",
       "\n",
       "                 volume       roi  \n",
       "roi_class                          \n",
       "0          3.565922e+09  0.006699  \n",
       "1          4.256878e+09 -1.465127  \n",
       "2          3.924541e+09  1.177166  "
      ]
     },
     "execution_count": 196,
     "metadata": {},
     "output_type": "execute_result"
    }
   ],
   "source": [
    "sandp.groupby('roi_class').mean()"
   ]
  },
  {
   "cell_type": "code",
   "execution_count": 118,
   "metadata": {},
   "outputs": [],
   "source": [
    "#sandp = pd.concat([sandp, TA.SMA(sandp, 42)], axis=1)\n",
    "#sandp.loc[:, ['close', '42 period SMA']].plot.line()"
   ]
  },
  {
   "cell_type": "code",
   "execution_count": 226,
   "metadata": {
    "collapsed": true,
    "jupyter": {
     "outputs_hidden": true
    }
   },
   "outputs": [
    {
     "data": {
      "text/plain": [
       "date\n",
       "2010-01-04           NaN\n",
       "2010-01-05     47.140452\n",
       "2010-01-06     55.027085\n",
       "2010-01-07     59.207938\n",
       "2010-01-08     78.144763\n",
       "2010-01-11     89.865533\n",
       "2010-01-12     -3.539732\n",
       "2010-01-13     49.831199\n",
       "2010-01-14     90.246711\n",
       "2010-01-15     -8.541302\n",
       "2010-01-19     65.889605\n",
       "2010-01-20    -14.296739\n",
       "2010-01-21   -138.127271\n",
       "2010-01-22   -196.500593\n",
       "2010-01-25   -153.676332\n",
       "2010-01-26   -133.612293\n",
       "2010-01-27   -120.872314\n",
       "2010-01-28   -121.582136\n",
       "2010-01-29   -125.054506\n",
       "2010-02-01   -104.252295\n",
       "2010-02-02    -61.249369\n",
       "2010-02-03    -60.472610\n",
       "2010-02-04   -114.529883\n",
       "2010-02-05   -136.228139\n",
       "2010-02-08   -119.103977\n",
       "2010-02-09    -93.632167\n",
       "2010-02-10    -94.364289\n",
       "2010-02-11    -77.653586\n",
       "2010-02-12    -76.436788\n",
       "2010-02-16    -36.965928\n",
       "                 ...    \n",
       "2019-08-09    -78.856099\n",
       "2019-08-12   -115.419152\n",
       "2019-08-13    -72.705653\n",
       "2019-08-14   -135.217746\n",
       "2019-08-15   -136.832895\n",
       "2019-08-16    -84.804237\n",
       "2019-08-19    -36.639352\n",
       "2019-08-20    -50.493576\n",
       "2019-08-21    -30.237012\n",
       "2019-08-22    -29.351449\n",
       "2019-08-23    -83.243999\n",
       "2019-08-26    -76.318831\n",
       "2019-08-27    -66.195712\n",
       "2019-08-28    -61.035795\n",
       "2019-08-29     -9.068212\n",
       "2019-08-30      0.818306\n",
       "2019-09-03    -23.220501\n",
       "2019-09-04     14.619461\n",
       "2019-09-05     70.298575\n",
       "2019-09-06     79.478089\n",
       "2019-09-09     86.127308\n",
       "2019-09-10     83.387567\n",
       "2019-09-11    117.937309\n",
       "2019-09-12    139.115327\n",
       "2019-09-13    129.435817\n",
       "2019-09-16    104.286547\n",
       "2019-09-17    103.003387\n",
       "2019-09-18     90.609862\n",
       "2019-09-19     99.847996\n",
       "2019-09-20     77.971964\n",
       "Name: 30 period CCI, Length: 2446, dtype: float64"
      ]
     },
     "execution_count": 226,
     "metadata": {},
     "output_type": "execute_result"
    }
   ],
   "source": [
    "TA.CCI(sandp, period=30)"
   ]
  },
  {
   "cell_type": "code",
   "execution_count": 133,
   "metadata": {
    "collapsed": true,
    "jupyter": {
     "outputs_hidden": true
    }
   },
   "outputs": [
    {
     "data": {
      "text/html": [
       "<div>\n",
       "<style scoped>\n",
       "    .dataframe tbody tr th:only-of-type {\n",
       "        vertical-align: middle;\n",
       "    }\n",
       "\n",
       "    .dataframe tbody tr th {\n",
       "        vertical-align: top;\n",
       "    }\n",
       "\n",
       "    .dataframe thead th {\n",
       "        text-align: right;\n",
       "    }\n",
       "</style>\n",
       "<table border=\"1\" class=\"dataframe\">\n",
       "  <thead>\n",
       "    <tr style=\"text-align: right;\">\n",
       "      <th></th>\n",
       "      <th>MACD</th>\n",
       "      <th>SIGNAL</th>\n",
       "    </tr>\n",
       "    <tr>\n",
       "      <th>date</th>\n",
       "      <th></th>\n",
       "      <th></th>\n",
       "    </tr>\n",
       "  </thead>\n",
       "  <tbody>\n",
       "    <tr>\n",
       "      <th>2010-01-04</th>\n",
       "      <td>0.000000</td>\n",
       "      <td>0.000000</td>\n",
       "    </tr>\n",
       "    <tr>\n",
       "      <th>2010-01-05</th>\n",
       "      <td>-0.058834</td>\n",
       "      <td>-0.032685</td>\n",
       "    </tr>\n",
       "    <tr>\n",
       "      <th>2010-01-06</th>\n",
       "      <td>-0.089832</td>\n",
       "      <td>-0.056106</td>\n",
       "    </tr>\n",
       "    <tr>\n",
       "      <th>2010-01-07</th>\n",
       "      <td>-0.223154</td>\n",
       "      <td>-0.112694</td>\n",
       "    </tr>\n",
       "    <tr>\n",
       "      <th>2010-01-08</th>\n",
       "      <td>-0.389150</td>\n",
       "      <td>-0.194934</td>\n",
       "    </tr>\n",
       "    <tr>\n",
       "      <th>2010-01-11</th>\n",
       "      <td>-0.547742</td>\n",
       "      <td>-0.290564</td>\n",
       "    </tr>\n",
       "    <tr>\n",
       "      <th>2010-01-12</th>\n",
       "      <td>-0.290884</td>\n",
       "      <td>-0.290645</td>\n",
       "    </tr>\n",
       "    <tr>\n",
       "      <th>2010-01-13</th>\n",
       "      <td>-0.436178</td>\n",
       "      <td>-0.325619</td>\n",
       "    </tr>\n",
       "    <tr>\n",
       "      <th>2010-01-14</th>\n",
       "      <td>-0.633902</td>\n",
       "      <td>-0.396834</td>\n",
       "    </tr>\n",
       "    <tr>\n",
       "      <th>2010-01-15</th>\n",
       "      <td>-0.310361</td>\n",
       "      <td>-0.377459</td>\n",
       "    </tr>\n",
       "    <tr>\n",
       "      <th>2010-01-19</th>\n",
       "      <td>-0.609911</td>\n",
       "      <td>-0.428318</td>\n",
       "    </tr>\n",
       "    <tr>\n",
       "      <th>2010-01-20</th>\n",
       "      <td>-0.349764</td>\n",
       "      <td>-0.411448</td>\n",
       "    </tr>\n",
       "    <tr>\n",
       "      <th>2010-01-21</th>\n",
       "      <td>0.725127</td>\n",
       "      <td>-0.170909</td>\n",
       "    </tr>\n",
       "    <tr>\n",
       "      <th>2010-01-22</th>\n",
       "      <td>2.574450</td>\n",
       "      <td>0.403422</td>\n",
       "    </tr>\n",
       "    <tr>\n",
       "      <th>2010-01-25</th>\n",
       "      <td>3.778745</td>\n",
       "      <td>1.103104</td>\n",
       "    </tr>\n",
       "    <tr>\n",
       "      <th>2010-01-26</th>\n",
       "      <td>4.889524</td>\n",
       "      <td>1.882321</td>\n",
       "    </tr>\n",
       "    <tr>\n",
       "      <th>2010-01-27</th>\n",
       "      <td>5.486713</td>\n",
       "      <td>2.619806</td>\n",
       "    </tr>\n",
       "    <tr>\n",
       "      <th>2010-01-28</th>\n",
       "      <td>6.497156</td>\n",
       "      <td>3.409502</td>\n",
       "    </tr>\n",
       "    <tr>\n",
       "      <th>2010-01-29</th>\n",
       "      <td>7.735144</td>\n",
       "      <td>4.287281</td>\n",
       "    </tr>\n",
       "    <tr>\n",
       "      <th>2010-02-01</th>\n",
       "      <td>7.942926</td>\n",
       "      <td>5.026937</td>\n",
       "    </tr>\n",
       "    <tr>\n",
       "      <th>2010-02-02</th>\n",
       "      <td>7.371122</td>\n",
       "      <td>5.500139</td>\n",
       "    </tr>\n",
       "    <tr>\n",
       "      <th>2010-02-03</th>\n",
       "      <td>7.139101</td>\n",
       "      <td>5.830368</td>\n",
       "    </tr>\n",
       "    <tr>\n",
       "      <th>2010-02-04</th>\n",
       "      <td>8.559756</td>\n",
       "      <td>6.379487</td>\n",
       "    </tr>\n",
       "    <tr>\n",
       "      <th>2010-02-05</th>\n",
       "      <td>9.483249</td>\n",
       "      <td>7.003185</td>\n",
       "    </tr>\n",
       "    <tr>\n",
       "      <th>2010-02-08</th>\n",
       "      <td>10.624514</td>\n",
       "      <td>7.730197</td>\n",
       "    </tr>\n",
       "    <tr>\n",
       "      <th>2010-02-09</th>\n",
       "      <td>10.763026</td>\n",
       "      <td>8.338602</td>\n",
       "    </tr>\n",
       "    <tr>\n",
       "      <th>2010-02-10</th>\n",
       "      <td>10.908581</td>\n",
       "      <td>8.853843</td>\n",
       "    </tr>\n",
       "    <tr>\n",
       "      <th>2010-02-11</th>\n",
       "      <td>10.401740</td>\n",
       "      <td>9.164023</td>\n",
       "    </tr>\n",
       "    <tr>\n",
       "      <th>2010-02-12</th>\n",
       "      <td>10.058506</td>\n",
       "      <td>9.343197</td>\n",
       "    </tr>\n",
       "    <tr>\n",
       "      <th>2010-02-16</th>\n",
       "      <td>8.675996</td>\n",
       "      <td>9.209591</td>\n",
       "    </tr>\n",
       "    <tr>\n",
       "      <th>...</th>\n",
       "      <td>...</td>\n",
       "      <td>...</td>\n",
       "    </tr>\n",
       "    <tr>\n",
       "      <th>2019-08-09</th>\n",
       "      <td>6.733566</td>\n",
       "      <td>-4.744857</td>\n",
       "    </tr>\n",
       "    <tr>\n",
       "      <th>2019-08-12</th>\n",
       "      <td>9.923156</td>\n",
       "      <td>-1.811254</td>\n",
       "    </tr>\n",
       "    <tr>\n",
       "      <th>2019-08-13</th>\n",
       "      <td>9.815650</td>\n",
       "      <td>0.514126</td>\n",
       "    </tr>\n",
       "    <tr>\n",
       "      <th>2019-08-14</th>\n",
       "      <td>14.833168</td>\n",
       "      <td>3.377935</td>\n",
       "    </tr>\n",
       "    <tr>\n",
       "      <th>2019-08-15</th>\n",
       "      <td>18.397241</td>\n",
       "      <td>6.381796</td>\n",
       "    </tr>\n",
       "    <tr>\n",
       "      <th>2019-08-16</th>\n",
       "      <td>18.681574</td>\n",
       "      <td>8.841752</td>\n",
       "    </tr>\n",
       "    <tr>\n",
       "      <th>2019-08-19</th>\n",
       "      <td>16.648538</td>\n",
       "      <td>10.403109</td>\n",
       "    </tr>\n",
       "    <tr>\n",
       "      <th>2019-08-20</th>\n",
       "      <td>16.249727</td>\n",
       "      <td>11.572432</td>\n",
       "    </tr>\n",
       "    <tr>\n",
       "      <th>2019-08-21</th>\n",
       "      <td>14.345465</td>\n",
       "      <td>12.127039</td>\n",
       "    </tr>\n",
       "    <tr>\n",
       "      <th>2019-08-22</th>\n",
       "      <td>12.760561</td>\n",
       "      <td>12.253743</td>\n",
       "    </tr>\n",
       "    <tr>\n",
       "      <th>2019-08-23</th>\n",
       "      <td>15.947419</td>\n",
       "      <td>12.992478</td>\n",
       "    </tr>\n",
       "    <tr>\n",
       "      <th>2019-08-26</th>\n",
       "      <td>16.536092</td>\n",
       "      <td>13.701201</td>\n",
       "    </tr>\n",
       "    <tr>\n",
       "      <th>2019-08-27</th>\n",
       "      <td>17.442253</td>\n",
       "      <td>14.449411</td>\n",
       "    </tr>\n",
       "    <tr>\n",
       "      <th>2019-08-28</th>\n",
       "      <td>16.907437</td>\n",
       "      <td>14.941017</td>\n",
       "    </tr>\n",
       "    <tr>\n",
       "      <th>2019-08-29</th>\n",
       "      <td>14.117177</td>\n",
       "      <td>14.776249</td>\n",
       "    </tr>\n",
       "    <tr>\n",
       "      <th>2019-08-30</th>\n",
       "      <td>11.605663</td>\n",
       "      <td>14.142132</td>\n",
       "    </tr>\n",
       "    <tr>\n",
       "      <th>2019-09-03</th>\n",
       "      <td>10.677440</td>\n",
       "      <td>13.449193</td>\n",
       "    </tr>\n",
       "    <tr>\n",
       "      <th>2019-09-04</th>\n",
       "      <td>7.925688</td>\n",
       "      <td>12.344492</td>\n",
       "    </tr>\n",
       "    <tr>\n",
       "      <th>2019-09-05</th>\n",
       "      <td>3.297637</td>\n",
       "      <td>10.535121</td>\n",
       "    </tr>\n",
       "    <tr>\n",
       "      <th>2019-09-06</th>\n",
       "      <td>-0.681149</td>\n",
       "      <td>8.291867</td>\n",
       "    </tr>\n",
       "    <tr>\n",
       "      <th>2019-09-09</th>\n",
       "      <td>-3.915547</td>\n",
       "      <td>5.850384</td>\n",
       "    </tr>\n",
       "    <tr>\n",
       "      <th>2019-09-10</th>\n",
       "      <td>-6.589544</td>\n",
       "      <td>3.362399</td>\n",
       "    </tr>\n",
       "    <tr>\n",
       "      <th>2019-09-11</th>\n",
       "      <td>-10.028024</td>\n",
       "      <td>0.684314</td>\n",
       "    </tr>\n",
       "    <tr>\n",
       "      <th>2019-09-12</th>\n",
       "      <td>-13.284303</td>\n",
       "      <td>-2.109409</td>\n",
       "    </tr>\n",
       "    <tr>\n",
       "      <th>2019-09-13</th>\n",
       "      <td>-15.710728</td>\n",
       "      <td>-4.829673</td>\n",
       "    </tr>\n",
       "    <tr>\n",
       "      <th>2019-09-16</th>\n",
       "      <td>-16.999817</td>\n",
       "      <td>-7.263702</td>\n",
       "    </tr>\n",
       "    <tr>\n",
       "      <th>2019-09-17</th>\n",
       "      <td>-18.386047</td>\n",
       "      <td>-9.488171</td>\n",
       "    </tr>\n",
       "    <tr>\n",
       "      <th>2019-09-18</th>\n",
       "      <td>-19.434769</td>\n",
       "      <td>-11.477491</td>\n",
       "    </tr>\n",
       "    <tr>\n",
       "      <th>2019-09-19</th>\n",
       "      <td>-20.140100</td>\n",
       "      <td>-13.210012</td>\n",
       "    </tr>\n",
       "    <tr>\n",
       "      <th>2019-09-20</th>\n",
       "      <td>-19.664706</td>\n",
       "      <td>-14.500951</td>\n",
       "    </tr>\n",
       "  </tbody>\n",
       "</table>\n",
       "<p>2446 rows × 2 columns</p>\n",
       "</div>"
      ],
      "text/plain": [
       "                 MACD     SIGNAL\n",
       "date                            \n",
       "2010-01-04   0.000000   0.000000\n",
       "2010-01-05  -0.058834  -0.032685\n",
       "2010-01-06  -0.089832  -0.056106\n",
       "2010-01-07  -0.223154  -0.112694\n",
       "2010-01-08  -0.389150  -0.194934\n",
       "2010-01-11  -0.547742  -0.290564\n",
       "2010-01-12  -0.290884  -0.290645\n",
       "2010-01-13  -0.436178  -0.325619\n",
       "2010-01-14  -0.633902  -0.396834\n",
       "2010-01-15  -0.310361  -0.377459\n",
       "2010-01-19  -0.609911  -0.428318\n",
       "2010-01-20  -0.349764  -0.411448\n",
       "2010-01-21   0.725127  -0.170909\n",
       "2010-01-22   2.574450   0.403422\n",
       "2010-01-25   3.778745   1.103104\n",
       "2010-01-26   4.889524   1.882321\n",
       "2010-01-27   5.486713   2.619806\n",
       "2010-01-28   6.497156   3.409502\n",
       "2010-01-29   7.735144   4.287281\n",
       "2010-02-01   7.942926   5.026937\n",
       "2010-02-02   7.371122   5.500139\n",
       "2010-02-03   7.139101   5.830368\n",
       "2010-02-04   8.559756   6.379487\n",
       "2010-02-05   9.483249   7.003185\n",
       "2010-02-08  10.624514   7.730197\n",
       "2010-02-09  10.763026   8.338602\n",
       "2010-02-10  10.908581   8.853843\n",
       "2010-02-11  10.401740   9.164023\n",
       "2010-02-12  10.058506   9.343197\n",
       "2010-02-16   8.675996   9.209591\n",
       "...               ...        ...\n",
       "2019-08-09   6.733566  -4.744857\n",
       "2019-08-12   9.923156  -1.811254\n",
       "2019-08-13   9.815650   0.514126\n",
       "2019-08-14  14.833168   3.377935\n",
       "2019-08-15  18.397241   6.381796\n",
       "2019-08-16  18.681574   8.841752\n",
       "2019-08-19  16.648538  10.403109\n",
       "2019-08-20  16.249727  11.572432\n",
       "2019-08-21  14.345465  12.127039\n",
       "2019-08-22  12.760561  12.253743\n",
       "2019-08-23  15.947419  12.992478\n",
       "2019-08-26  16.536092  13.701201\n",
       "2019-08-27  17.442253  14.449411\n",
       "2019-08-28  16.907437  14.941017\n",
       "2019-08-29  14.117177  14.776249\n",
       "2019-08-30  11.605663  14.142132\n",
       "2019-09-03  10.677440  13.449193\n",
       "2019-09-04   7.925688  12.344492\n",
       "2019-09-05   3.297637  10.535121\n",
       "2019-09-06  -0.681149   8.291867\n",
       "2019-09-09  -3.915547   5.850384\n",
       "2019-09-10  -6.589544   3.362399\n",
       "2019-09-11 -10.028024   0.684314\n",
       "2019-09-12 -13.284303  -2.109409\n",
       "2019-09-13 -15.710728  -4.829673\n",
       "2019-09-16 -16.999817  -7.263702\n",
       "2019-09-17 -18.386047  -9.488171\n",
       "2019-09-18 -19.434769 -11.477491\n",
       "2019-09-19 -20.140100 -13.210012\n",
       "2019-09-20 -19.664706 -14.500951\n",
       "\n",
       "[2446 rows x 2 columns]"
      ]
     },
     "execution_count": 133,
     "metadata": {},
     "output_type": "execute_result"
    }
   ],
   "source": [
    "TA.MACD(sandp, period_slow=15, period_fast=30)"
   ]
  },
  {
   "cell_type": "code",
   "execution_count": 227,
   "metadata": {
    "collapsed": true,
    "jupyter": {
     "outputs_hidden": true
    }
   },
   "outputs": [
    {
     "data": {
      "text/plain": [
       "date\n",
       "2010-01-04           NaN\n",
       "2010-01-05    100.000000\n",
       "2010-01-06    100.000000\n",
       "2010-01-07    100.000000\n",
       "2010-01-08    100.000000\n",
       "2010-01-11    100.000000\n",
       "2010-01-12     46.205695\n",
       "2010-01-13     65.197803\n",
       "2010-01-14     68.918483\n",
       "2010-01-15     44.418495\n",
       "2010-01-19     62.153238\n",
       "2010-01-20     47.227071\n",
       "2010-01-21     31.693988\n",
       "2010-01-22     22.084502\n",
       "2010-01-25     27.252771\n",
       "2010-01-26     25.463095\n",
       "2010-01-27     31.467022\n",
       "2010-01-28     25.662937\n",
       "2010-01-29     21.842239\n",
       "2010-02-01     37.317250\n",
       "2010-02-02     48.226592\n",
       "2010-02-03     44.414108\n",
       "2010-02-04     29.296119\n",
       "2010-02-05     31.713552\n",
       "2010-02-08     28.289295\n",
       "2010-02-09     39.314247\n",
       "2010-02-10     38.140754\n",
       "2010-02-11     46.162705\n",
       "2010-02-12     44.266584\n",
       "2010-02-16     57.454948\n",
       "                 ...    \n",
       "2019-08-09     43.780374\n",
       "2019-08-12     36.430177\n",
       "2019-08-13     48.528445\n",
       "2019-08-14     33.899604\n",
       "2019-08-15     35.725255\n",
       "2019-08-16     45.852096\n",
       "2019-08-19     53.108801\n",
       "2019-08-20     48.178998\n",
       "2019-08-21     53.344497\n",
       "2019-08-22     52.967567\n",
       "2019-08-23     37.359189\n",
       "2019-08-26     45.061169\n",
       "2019-08-27     43.251901\n",
       "2019-08-28     48.145224\n",
       "2019-08-29     56.574757\n",
       "2019-08-30     56.988680\n",
       "2019-09-03     50.968234\n",
       "2019-09-04     58.805137\n",
       "2019-09-05     66.335684\n",
       "2019-09-06     66.831735\n",
       "2019-09-09     66.714525\n",
       "2019-09-10     66.943840\n",
       "2019-09-11     71.947532\n",
       "2019-09-12     73.784170\n",
       "2019-09-13     72.403996\n",
       "2019-09-16     66.221879\n",
       "2019-09-17     68.748959\n",
       "2019-09-18     69.103890\n",
       "2019-09-19     69.127480\n",
       "2019-09-20     56.851800\n",
       "Name: RSI, Length: 2446, dtype: float64"
      ]
     },
     "execution_count": 227,
     "metadata": {},
     "output_type": "execute_result"
    }
   ],
   "source": [
    "TA.RSI(sandp, 14)"
   ]
  },
  {
   "cell_type": "code",
   "execution_count": null,
   "metadata": {},
   "outputs": [],
   "source": []
  }
 ],
 "metadata": {
  "kernelspec": {
   "display_name": "Python [conda env:learn-env] *",
   "language": "python",
   "name": "conda-env-learn-env-py"
  },
  "language_info": {
   "codemirror_mode": {
    "name": "ipython",
    "version": 3
   },
   "file_extension": ".py",
   "mimetype": "text/x-python",
   "name": "python",
   "nbconvert_exporter": "python",
   "pygments_lexer": "ipython3",
   "version": "3.6.6"
  }
 },
 "nbformat": 4,
 "nbformat_minor": 4
}
